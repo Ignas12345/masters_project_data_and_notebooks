{
  "nbformat": 4,
  "nbformat_minor": 0,
  "metadata": {
    "colab": {
      "provenance": []
    },
    "kernelspec": {
      "name": "python3",
      "display_name": "Python 3"
    },
    "language_info": {
      "name": "python"
    }
  },
  "cells": [
    {
      "cell_type": "markdown",
      "source": [
        "In this notebook, the TCGA-TGCT samples are divided into 5 distinct experiments according to histological composition of the tumor. These divisions are taken from the TCGA-TGCT study supplementry document's section on \"differentialy abundatnt microRNAs\": https://www.cell.com/cms/10.1016/j.celrep.2018.05.039/attachment/c0b32f0d-2761-4f95-b667-b6fe9350049c/mmc1.pdf\n",
        "\n",
        "The divisions are: \"pure seminoma (n=72) vs. samples with no seminoma component  (n=61)\", \"pure seminoma (n=72) vs pure EC (n =18)\", \"pure EC vs samples with no EC or seminoma component (n=19)\", \"pure teratomas (can have both mature and immature component) (n=6) vs samples with no teratoma component (n=107)\" and \"pure seminomas with a mutation in the KIT gene (n=25) vs pure seminomas without KIT mutations (n=47)\"."
      ],
      "metadata": {
        "id": "vwP3xdfPUs1Y"
      }
    },
    {
      "cell_type": "code",
      "source": [
        "import pandas as pd"
      ],
      "metadata": {
        "id": "UVS6cHEYX1Ts"
      },
      "execution_count": 1,
      "outputs": []
    },
    {
      "cell_type": "code",
      "execution_count": 2,
      "metadata": {
        "id": "UevnwMWuUeqS"
      },
      "outputs": [],
      "source": [
        "url_sample_data = \"https://raw.githubusercontent.com/Ignas12345/masters_project_data_and_notebooks/refs/heads/main/Data/sample_annotations/TCGA_TGCT_sample_data.csv\"\n",
        "sample_data = pd.read_csv(url_sample_data, sep = \"|\", index_col=0)"
      ]
    },
    {
      "cell_type": "code",
      "source": [
        "sample_data.columns"
      ],
      "metadata": {
        "colab": {
          "base_uri": "https://localhost:8080/"
        },
        "id": "0ymo17YOYl-j",
        "outputId": "438230a8-2380-4711-842e-3d9a99b8b9d7"
      },
      "execution_count": 3,
      "outputs": [
        {
          "output_type": "execute_result",
          "data": {
            "text/plain": [
              "Index(['SCNA_k5', 'miRNA_k3', 'methylation_k5', 'mRNA_k4', 'RPPA_k4',\n",
              "       'PARADIGM_k3', 'age_at_diagnosis', 'race', 'ethnicity',\n",
              "       'two-class updated 20160629', 'multiclass updated 20160629',\n",
              "       'Seminoma % ', 'Embryonal carcinoma %', 'Yolk sac tumor %', 'Mature %',\n",
              "       'Immature %', 'Choriocarcinoma %', 'history_of_undescended_testis',\n",
              "       'Family_History_Testicular_Cancer', 'Family_History_ Any_Cancer',\n",
              "       'New_Primary_tumor', 'purity', 'ploidy', 'Genome doublings',\n",
              "       'Cancer DNA fraction', 'Subclonal genome fraction', 'AverageCpH',\n",
              "       'AverageCpG at CGI', 'AverageCpG at nonCGI', 'CpH Methylation Mode',\n",
              "       'leukocyte infiltration', 'KIT', 'KRAS', 'NRAS', 'PIK3CA', 'q2020cov',\n",
              "       '#Silent', '#Nonsilent', '#Total', 'Silent (per Mb)',\n",
              "       'Nonsilent (Per Mb)', 'Total (Per Mb)', 'C:G>A:T %', 'C:G>G:C %',\n",
              "       'C:G>T:A %', 'T:A>A:T %', 'T:A>C:G %', 'T:A>G:C %', 'INDEL %', 'DNM %',\n",
              "       'KRAS_mut', 'KRAS_mut_multiplicity', 'KRAS_copies', 'KRAS_expr',\n",
              "       'KIT_mut', 'KIT_copies', 'KIT_mut_multiplicity', 'KIT_expr', 'c-Kit',\n",
              "       'NRAS_mut', 'NRAS_copies', 'NRAS_expr', 'MDM2_copies', 'MDM2_expr',\n",
              "       'CBL_copies', 'CBL_expr', 'PIK3CA_copies', 'PIK3CA_mut',\n",
              "       'PIK3CB_copies', 'PIK3CB_mut', 'PIK3CD_copies', 'PIK3CD_mut', 'iso_12',\n",
              "       '12p_copies', '12p_a1', '12p_a2', '12q_a1', '12q_a2'],\n",
              "      dtype='object')"
            ]
          },
          "metadata": {},
          "execution_count": 3
        }
      ]
    },
    {
      "cell_type": "code",
      "source": [
        "#fill nan with 0\n",
        "subtype_proportions = ['Seminoma % ','Embryonal carcinoma %', 'Yolk sac tumor %', 'Mature %', 'Immature %', 'Choriocarcinoma %']\n",
        "sample_data.loc[:,subtype_proportions] = sample_data.loc[:,subtype_proportions].fillna(0)"
      ],
      "metadata": {
        "id": "sX3AZAPDYDLa"
      },
      "execution_count": 4,
      "outputs": []
    },
    {
      "cell_type": "code",
      "source": [
        "divisions_by_experiment = pd.DataFrame(index=sample_data.index)"
      ],
      "metadata": {
        "id": "b4GZlM47aL2g"
      },
      "execution_count": 5,
      "outputs": []
    },
    {
      "cell_type": "markdown",
      "source": [
        "Prepare experiment #1: \"pure seminoma (n=72) vs. samples with no seminoma component (n=61)\""
      ],
      "metadata": {
        "id": "wkVPHZUxanhS"
      }
    },
    {
      "cell_type": "code",
      "source": [
        "#Prepare experiment #1: \"pure seminoma (n=72) vs. samples with no seminoma component (n=61)\"\n",
        "label_dict = {}\n",
        "for sample in sample_data.index:\n",
        "  if sample_data.loc[sample, 'Seminoma % '] == 0:\n",
        "    label_dict[sample] = 'non_seminoma'\n",
        "  elif sample_data.loc[sample, 'Seminoma % '] == 100:\n",
        "    label_dict[sample] = 'seminoma'\n",
        "  else:\n",
        "    label_dict[sample] = 'unused'\n",
        "divisions_by_experiment['seminoma_vs_non_seminoma'] = pd.Series(label_dict)\n",
        "divisions_by_experiment['seminoma_vs_non_seminoma'].value_counts()"
      ],
      "metadata": {
        "colab": {
          "base_uri": "https://localhost:8080/",
          "height": 209
        },
        "id": "_NIdJ_QMamZS",
        "outputId": "18a1dd7e-f426-49cc-843e-d85c85de77ae"
      },
      "execution_count": 6,
      "outputs": [
        {
          "output_type": "execute_result",
          "data": {
            "text/plain": [
              "seminoma_vs_non_seminoma\n",
              "seminoma        72\n",
              "non_seminoma    61\n",
              "unused           4\n",
              "Name: count, dtype: int64"
            ],
            "text/html": [
              "<div>\n",
              "<style scoped>\n",
              "    .dataframe tbody tr th:only-of-type {\n",
              "        vertical-align: middle;\n",
              "    }\n",
              "\n",
              "    .dataframe tbody tr th {\n",
              "        vertical-align: top;\n",
              "    }\n",
              "\n",
              "    .dataframe thead th {\n",
              "        text-align: right;\n",
              "    }\n",
              "</style>\n",
              "<table border=\"1\" class=\"dataframe\">\n",
              "  <thead>\n",
              "    <tr style=\"text-align: right;\">\n",
              "      <th></th>\n",
              "      <th>count</th>\n",
              "    </tr>\n",
              "    <tr>\n",
              "      <th>seminoma_vs_non_seminoma</th>\n",
              "      <th></th>\n",
              "    </tr>\n",
              "  </thead>\n",
              "  <tbody>\n",
              "    <tr>\n",
              "      <th>seminoma</th>\n",
              "      <td>72</td>\n",
              "    </tr>\n",
              "    <tr>\n",
              "      <th>non_seminoma</th>\n",
              "      <td>61</td>\n",
              "    </tr>\n",
              "    <tr>\n",
              "      <th>unused</th>\n",
              "      <td>4</td>\n",
              "    </tr>\n",
              "  </tbody>\n",
              "</table>\n",
              "</div><br><label><b>dtype:</b> int64</label>"
            ]
          },
          "metadata": {},
          "execution_count": 6
        }
      ]
    },
    {
      "cell_type": "markdown",
      "source": [
        "Prepare experiment #2: \"pure seminoma (n=72) vs pure EC (n =18)\""
      ],
      "metadata": {
        "id": "LI4dH7wBgS65"
      }
    },
    {
      "cell_type": "code",
      "source": [
        "#Prepare experiment #2: \"pure seminoma (n=72) vs pure EC (n =18)\"\n",
        "label_dict = {}\n",
        "for sample in sample_data.index:\n",
        "  if sample_data.loc[sample, 'Embryonal carcinoma %'] == 100:\n",
        "    label_dict[sample] = 'ebryonal_carcinoma'\n",
        "  elif sample_data.loc[sample, 'Seminoma % '] == 100:\n",
        "    label_dict[sample] = 'seminoma'\n",
        "  else:\n",
        "    label_dict[sample] = 'unused'\n",
        "divisions_by_experiment['seminoma_vs_embryonal'] = pd.Series(label_dict)\n",
        "divisions_by_experiment['seminoma_vs_embryonal'].value_counts()"
      ],
      "metadata": {
        "colab": {
          "base_uri": "https://localhost:8080/",
          "height": 209
        },
        "id": "FWmz3rFagSOo",
        "outputId": "da6f3a72-3f2a-4c83-efdb-c0f5a16dfe10"
      },
      "execution_count": 7,
      "outputs": [
        {
          "output_type": "execute_result",
          "data": {
            "text/plain": [
              "seminoma_vs_embryonal\n",
              "seminoma              72\n",
              "unused                47\n",
              "ebryonal_carcinoma    18\n",
              "Name: count, dtype: int64"
            ],
            "text/html": [
              "<div>\n",
              "<style scoped>\n",
              "    .dataframe tbody tr th:only-of-type {\n",
              "        vertical-align: middle;\n",
              "    }\n",
              "\n",
              "    .dataframe tbody tr th {\n",
              "        vertical-align: top;\n",
              "    }\n",
              "\n",
              "    .dataframe thead th {\n",
              "        text-align: right;\n",
              "    }\n",
              "</style>\n",
              "<table border=\"1\" class=\"dataframe\">\n",
              "  <thead>\n",
              "    <tr style=\"text-align: right;\">\n",
              "      <th></th>\n",
              "      <th>count</th>\n",
              "    </tr>\n",
              "    <tr>\n",
              "      <th>seminoma_vs_embryonal</th>\n",
              "      <th></th>\n",
              "    </tr>\n",
              "  </thead>\n",
              "  <tbody>\n",
              "    <tr>\n",
              "      <th>seminoma</th>\n",
              "      <td>72</td>\n",
              "    </tr>\n",
              "    <tr>\n",
              "      <th>unused</th>\n",
              "      <td>47</td>\n",
              "    </tr>\n",
              "    <tr>\n",
              "      <th>ebryonal_carcinoma</th>\n",
              "      <td>18</td>\n",
              "    </tr>\n",
              "  </tbody>\n",
              "</table>\n",
              "</div><br><label><b>dtype:</b> int64</label>"
            ]
          },
          "metadata": {},
          "execution_count": 7
        }
      ]
    },
    {
      "cell_type": "markdown",
      "source": [
        "Prepare experiment #3 : \"pure EC (n=18) vs samples with no EC or seminoma component (n=19)\""
      ],
      "metadata": {
        "id": "WVBdvzjkhP04"
      }
    },
    {
      "cell_type": "code",
      "source": [
        "#Prepare experiment #3 : \"pure EC vs samples with no EC or seminoma component (n=19)\"\n",
        "label_dict = {}\n",
        "for sample in sample_data.index:\n",
        "  if sample_data.loc[sample, 'Embryonal carcinoma %'] == 100:\n",
        "    label_dict[sample] = 'ebryonal_carcinoma'\n",
        "  elif sample_data.loc[sample, 'Seminoma % '] == 0 and sample_data.loc[sample, 'Embryonal carcinoma %'] == 0:\n",
        "    label_dict[sample] = 'non_embryonal_non_seminoma'\n",
        "  else:\n",
        "    label_dict[sample] = 'unused'\n",
        "divisions_by_experiment['embryonal_vs_non_embryonal_non_seminoma'] = pd.Series(label_dict)\n",
        "divisions_by_experiment['embryonal_vs_non_embryonal_non_seminoma'].value_counts()"
      ],
      "metadata": {
        "colab": {
          "base_uri": "https://localhost:8080/",
          "height": 209
        },
        "id": "dJtZSkSkhdXU",
        "outputId": "09a5c281-b6f2-4202-f502-800bb9edec20"
      },
      "execution_count": 8,
      "outputs": [
        {
          "output_type": "execute_result",
          "data": {
            "text/plain": [
              "embryonal_vs_non_embryonal_non_seminoma\n",
              "unused                        100\n",
              "non_embryonal_non_seminoma     19\n",
              "ebryonal_carcinoma             18\n",
              "Name: count, dtype: int64"
            ],
            "text/html": [
              "<div>\n",
              "<style scoped>\n",
              "    .dataframe tbody tr th:only-of-type {\n",
              "        vertical-align: middle;\n",
              "    }\n",
              "\n",
              "    .dataframe tbody tr th {\n",
              "        vertical-align: top;\n",
              "    }\n",
              "\n",
              "    .dataframe thead th {\n",
              "        text-align: right;\n",
              "    }\n",
              "</style>\n",
              "<table border=\"1\" class=\"dataframe\">\n",
              "  <thead>\n",
              "    <tr style=\"text-align: right;\">\n",
              "      <th></th>\n",
              "      <th>count</th>\n",
              "    </tr>\n",
              "    <tr>\n",
              "      <th>embryonal_vs_non_embryonal_non_seminoma</th>\n",
              "      <th></th>\n",
              "    </tr>\n",
              "  </thead>\n",
              "  <tbody>\n",
              "    <tr>\n",
              "      <th>unused</th>\n",
              "      <td>100</td>\n",
              "    </tr>\n",
              "    <tr>\n",
              "      <th>non_embryonal_non_seminoma</th>\n",
              "      <td>19</td>\n",
              "    </tr>\n",
              "    <tr>\n",
              "      <th>ebryonal_carcinoma</th>\n",
              "      <td>18</td>\n",
              "    </tr>\n",
              "  </tbody>\n",
              "</table>\n",
              "</div><br><label><b>dtype:</b> int64</label>"
            ]
          },
          "metadata": {},
          "execution_count": 8
        }
      ]
    },
    {
      "cell_type": "markdown",
      "source": [
        "Prepare experiment #4 : \"pure teratomas (n=6) vs samples with no teratoma component (n=107)\""
      ],
      "metadata": {
        "id": "7b6yzX7xiKVv"
      }
    },
    {
      "cell_type": "code",
      "source": [
        "# Prepare experiment #4 : \"pure teratomas (n=6) vs samples with no teratoma component (n=107)\":\n",
        "label_dict = {}\n",
        "for sample in sample_data.index:\n",
        "  if sample_data.loc[sample, 'Mature %'] + sample_data.loc[sample, 'Immature %'] == 100:\n",
        "    label_dict[sample] = 'teratoma'\n",
        "  elif sample_data.loc[sample, 'Mature %'] == 0 and sample_data.loc[sample, 'Immature %'] == 0:\n",
        "    label_dict[sample] = 'non_teratoma'\n",
        "  else:\n",
        "    label_dict[sample] = 'unused'\n",
        "divisions_by_experiment['teratoma_vs_non_teratoma'] = pd.Series(label_dict)\n",
        "divisions_by_experiment['teratoma_vs_non_teratoma'].value_counts()"
      ],
      "metadata": {
        "colab": {
          "base_uri": "https://localhost:8080/",
          "height": 209
        },
        "id": "EjlsHjxgiES5",
        "outputId": "f2266dcc-7376-4408-9d17-33a679f129d7"
      },
      "execution_count": 9,
      "outputs": [
        {
          "output_type": "execute_result",
          "data": {
            "text/plain": [
              "teratoma_vs_non_teratoma\n",
              "non_teratoma    107\n",
              "unused           24\n",
              "teratoma          6\n",
              "Name: count, dtype: int64"
            ],
            "text/html": [
              "<div>\n",
              "<style scoped>\n",
              "    .dataframe tbody tr th:only-of-type {\n",
              "        vertical-align: middle;\n",
              "    }\n",
              "\n",
              "    .dataframe tbody tr th {\n",
              "        vertical-align: top;\n",
              "    }\n",
              "\n",
              "    .dataframe thead th {\n",
              "        text-align: right;\n",
              "    }\n",
              "</style>\n",
              "<table border=\"1\" class=\"dataframe\">\n",
              "  <thead>\n",
              "    <tr style=\"text-align: right;\">\n",
              "      <th></th>\n",
              "      <th>count</th>\n",
              "    </tr>\n",
              "    <tr>\n",
              "      <th>teratoma_vs_non_teratoma</th>\n",
              "      <th></th>\n",
              "    </tr>\n",
              "  </thead>\n",
              "  <tbody>\n",
              "    <tr>\n",
              "      <th>non_teratoma</th>\n",
              "      <td>107</td>\n",
              "    </tr>\n",
              "    <tr>\n",
              "      <th>unused</th>\n",
              "      <td>24</td>\n",
              "    </tr>\n",
              "    <tr>\n",
              "      <th>teratoma</th>\n",
              "      <td>6</td>\n",
              "    </tr>\n",
              "  </tbody>\n",
              "</table>\n",
              "</div><br><label><b>dtype:</b> int64</label>"
            ]
          },
          "metadata": {},
          "execution_count": 9
        }
      ]
    },
    {
      "cell_type": "markdown",
      "source": [
        "Prepare experiment #5 : \"pure seminomas with a mutation in the KIT gene (n=25) vs pure seminomas without KIT mutations (n=47)\""
      ],
      "metadata": {
        "id": "Q_IsYfIujLXy"
      }
    },
    {
      "cell_type": "code",
      "source": [
        "label_dict = {}\n",
        "for sample in sample_data.index:\n",
        "  if sample_data.loc[sample, 'Seminoma % '] == 100 and sample_data.loc[sample, 'KIT_mut'] != '0':\n",
        "    label_dict[sample] = 'KIT_mutated_seminoma'\n",
        "  elif sample_data.loc[sample, 'Seminoma % '] == 100 and sample_data.loc[sample, 'KIT_mut'] == '0':\n",
        "    label_dict[sample] = 'KIT_wildtype_seminoma'\n",
        "  else:\n",
        "    label_dict[sample] = 'unused'\n",
        "divisions_by_experiment['KIT_wildtype_vs_mutated_seminoma'] = pd.Series(label_dict)\n",
        "divisions_by_experiment['KIT_wildtype_vs_mutated_seminoma'].value_counts()"
      ],
      "metadata": {
        "colab": {
          "base_uri": "https://localhost:8080/",
          "height": 209
        },
        "id": "W2hZYhPwjVYu",
        "outputId": "ae4b676f-4f80-4e9a-94dc-392872271bc9"
      },
      "execution_count": 10,
      "outputs": [
        {
          "output_type": "execute_result",
          "data": {
            "text/plain": [
              "KIT_wildtype_vs_mutated_seminoma\n",
              "unused                   65\n",
              "KIT_wildtype_seminoma    47\n",
              "KIT_mutated_seminoma     25\n",
              "Name: count, dtype: int64"
            ],
            "text/html": [
              "<div>\n",
              "<style scoped>\n",
              "    .dataframe tbody tr th:only-of-type {\n",
              "        vertical-align: middle;\n",
              "    }\n",
              "\n",
              "    .dataframe tbody tr th {\n",
              "        vertical-align: top;\n",
              "    }\n",
              "\n",
              "    .dataframe thead th {\n",
              "        text-align: right;\n",
              "    }\n",
              "</style>\n",
              "<table border=\"1\" class=\"dataframe\">\n",
              "  <thead>\n",
              "    <tr style=\"text-align: right;\">\n",
              "      <th></th>\n",
              "      <th>count</th>\n",
              "    </tr>\n",
              "    <tr>\n",
              "      <th>KIT_wildtype_vs_mutated_seminoma</th>\n",
              "      <th></th>\n",
              "    </tr>\n",
              "  </thead>\n",
              "  <tbody>\n",
              "    <tr>\n",
              "      <th>unused</th>\n",
              "      <td>65</td>\n",
              "    </tr>\n",
              "    <tr>\n",
              "      <th>KIT_wildtype_seminoma</th>\n",
              "      <td>47</td>\n",
              "    </tr>\n",
              "    <tr>\n",
              "      <th>KIT_mutated_seminoma</th>\n",
              "      <td>25</td>\n",
              "    </tr>\n",
              "  </tbody>\n",
              "</table>\n",
              "</div><br><label><b>dtype:</b> int64</label>"
            ]
          },
          "metadata": {},
          "execution_count": 10
        }
      ]
    },
    {
      "cell_type": "markdown",
      "source": [
        "Prepare additional experiment #6: \"tumors with a teratoma component (n = 29) vs. tumors with no teratoma component (n = 107)\""
      ],
      "metadata": {
        "id": "a4o8OQkekaXQ"
      }
    },
    {
      "cell_type": "code",
      "source": [
        "#Prepare additional experiment #6: \"tumors with a teratoma component vs. tumors with no teratoma component\"\n",
        "label_dict = {}\n",
        "for sample in sample_data.index:\n",
        "  if sample_data.loc[sample, 'Mature %'] + sample_data.loc[sample, 'Immature %'] >= 10:\n",
        "    label_dict[sample] = 'teratoma_present'\n",
        "  elif sample_data.loc[sample, 'Mature %'] + sample_data.loc[sample, 'Immature %'] == 0:\n",
        "    label_dict[sample] = 'teratoma_absent'\n",
        "  else:\n",
        "    label_dict[sample] = 'unused'\n",
        "divisions_by_experiment['teratoma_present_vs_teratoma_absent'] = pd.Series(label_dict)\n",
        "divisions_by_experiment['teratoma_present_vs_teratoma_absent'].value_counts()"
      ],
      "metadata": {
        "colab": {
          "base_uri": "https://localhost:8080/",
          "height": 209
        },
        "id": "W7fnDe33k2RM",
        "outputId": "49c7f06a-4ed8-4197-e07f-3af3d5bfc03d"
      },
      "execution_count": 11,
      "outputs": [
        {
          "output_type": "execute_result",
          "data": {
            "text/plain": [
              "teratoma_present_vs_teratoma_absent\n",
              "teratoma_absent     107\n",
              "teratoma_present     29\n",
              "unused                1\n",
              "Name: count, dtype: int64"
            ],
            "text/html": [
              "<div>\n",
              "<style scoped>\n",
              "    .dataframe tbody tr th:only-of-type {\n",
              "        vertical-align: middle;\n",
              "    }\n",
              "\n",
              "    .dataframe tbody tr th {\n",
              "        vertical-align: top;\n",
              "    }\n",
              "\n",
              "    .dataframe thead th {\n",
              "        text-align: right;\n",
              "    }\n",
              "</style>\n",
              "<table border=\"1\" class=\"dataframe\">\n",
              "  <thead>\n",
              "    <tr style=\"text-align: right;\">\n",
              "      <th></th>\n",
              "      <th>count</th>\n",
              "    </tr>\n",
              "    <tr>\n",
              "      <th>teratoma_present_vs_teratoma_absent</th>\n",
              "      <th></th>\n",
              "    </tr>\n",
              "  </thead>\n",
              "  <tbody>\n",
              "    <tr>\n",
              "      <th>teratoma_absent</th>\n",
              "      <td>107</td>\n",
              "    </tr>\n",
              "    <tr>\n",
              "      <th>teratoma_present</th>\n",
              "      <td>29</td>\n",
              "    </tr>\n",
              "    <tr>\n",
              "      <th>unused</th>\n",
              "      <td>1</td>\n",
              "    </tr>\n",
              "  </tbody>\n",
              "</table>\n",
              "</div><br><label><b>dtype:</b> int64</label>"
            ]
          },
          "metadata": {},
          "execution_count": 11
        }
      ]
    },
    {
      "cell_type": "markdown",
      "source": [
        "Finally, add a multilabel_condition column"
      ],
      "metadata": {
        "id": "MDi77CKMxtO4"
      }
    },
    {
      "cell_type": "code",
      "source": [
        "label_dict = {}\n",
        "for sample in sample_data.index:\n",
        "  label_dict[sample] = sample_data.loc[sample,'multiclass updated 20160629']\n",
        "\n",
        "divisions_by_experiment['multiclass_label'] = pd.Series(label_dict)\n",
        "divisions_by_experiment['multiclass_label'].value_counts()"
      ],
      "metadata": {
        "id": "RJDRWszhx0Nu",
        "outputId": "6876bd8d-02c7-4f82-9228-e5b4c9317deb",
        "colab": {
          "base_uri": "https://localhost:8080/",
          "height": 397
        }
      },
      "execution_count": 12,
      "outputs": [
        {
          "output_type": "execute_result",
          "data": {
            "text/plain": [
              "multiclass_label\n",
              "seminoma                                       72\n",
              "embryonal                                      18\n",
              "mature teratoma dominant                       10\n",
              "embryonal dominant                              9\n",
              "non-seminoma- mixed (no dominant component)     9\n",
              "yolk sac dominant                               8\n",
              "yolk sac                                        5\n",
              "mature teratoma                                 3\n",
              "immature teratoma dominant                      3\n",
              "Name: count, dtype: int64"
            ],
            "text/html": [
              "<div>\n",
              "<style scoped>\n",
              "    .dataframe tbody tr th:only-of-type {\n",
              "        vertical-align: middle;\n",
              "    }\n",
              "\n",
              "    .dataframe tbody tr th {\n",
              "        vertical-align: top;\n",
              "    }\n",
              "\n",
              "    .dataframe thead th {\n",
              "        text-align: right;\n",
              "    }\n",
              "</style>\n",
              "<table border=\"1\" class=\"dataframe\">\n",
              "  <thead>\n",
              "    <tr style=\"text-align: right;\">\n",
              "      <th></th>\n",
              "      <th>count</th>\n",
              "    </tr>\n",
              "    <tr>\n",
              "      <th>multiclass_label</th>\n",
              "      <th></th>\n",
              "    </tr>\n",
              "  </thead>\n",
              "  <tbody>\n",
              "    <tr>\n",
              "      <th>seminoma</th>\n",
              "      <td>72</td>\n",
              "    </tr>\n",
              "    <tr>\n",
              "      <th>embryonal</th>\n",
              "      <td>18</td>\n",
              "    </tr>\n",
              "    <tr>\n",
              "      <th>mature teratoma dominant</th>\n",
              "      <td>10</td>\n",
              "    </tr>\n",
              "    <tr>\n",
              "      <th>embryonal dominant</th>\n",
              "      <td>9</td>\n",
              "    </tr>\n",
              "    <tr>\n",
              "      <th>non-seminoma- mixed (no dominant component)</th>\n",
              "      <td>9</td>\n",
              "    </tr>\n",
              "    <tr>\n",
              "      <th>yolk sac dominant</th>\n",
              "      <td>8</td>\n",
              "    </tr>\n",
              "    <tr>\n",
              "      <th>yolk sac</th>\n",
              "      <td>5</td>\n",
              "    </tr>\n",
              "    <tr>\n",
              "      <th>mature teratoma</th>\n",
              "      <td>3</td>\n",
              "    </tr>\n",
              "    <tr>\n",
              "      <th>immature teratoma dominant</th>\n",
              "      <td>3</td>\n",
              "    </tr>\n",
              "  </tbody>\n",
              "</table>\n",
              "</div><br><label><b>dtype:</b> int64</label>"
            ]
          },
          "metadata": {},
          "execution_count": 12
        }
      ]
    },
    {
      "cell_type": "code",
      "source": [
        "divisions_by_experiment.to_csv('TCGA_TGCT_divisions_by_experiment.csv')"
      ],
      "metadata": {
        "id": "uHC2vMXgwbGq"
      },
      "execution_count": 13,
      "outputs": []
    },
    {
      "cell_type": "code",
      "source": [
        "divisions_by_experiment.index[divisions_by_experiment['teratoma_vs_non_teratoma'] == 'teratoma']"
      ],
      "metadata": {
        "colab": {
          "base_uri": "https://localhost:8080/"
        },
        "id": "biDVqM_9g_6q",
        "outputId": "dfcc317b-8102-4e45-95de-4407d6200fae"
      },
      "execution_count": 14,
      "outputs": [
        {
          "output_type": "execute_result",
          "data": {
            "text/plain": [
              "Index(['TCGA-2G-AAG5-01', 'TCGA-2G-AAGV-01', 'TCGA-2G-AAGY-01',\n",
              "       'TCGA-SN-A84W-01', 'TCGA-XE-AAOB-01', 'TCGA-XE-AAOC-01'],\n",
              "      dtype='object', name='sample')"
            ]
          },
          "metadata": {},
          "execution_count": 14
        }
      ]
    }
  ]
}