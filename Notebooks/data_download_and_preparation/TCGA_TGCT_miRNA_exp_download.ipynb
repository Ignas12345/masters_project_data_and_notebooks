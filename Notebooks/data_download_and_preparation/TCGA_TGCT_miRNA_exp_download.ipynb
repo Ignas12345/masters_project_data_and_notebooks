{
  "cells": [
    {
      "cell_type": "markdown",
      "metadata": {
        "id": "kh-5Cxx20GGo"
      },
      "source": [
        "Using R and TCGABiolinks we download the miRNA expressions for the TCGA-TGCT study."
      ]
    },
    {
      "cell_type": "code",
      "execution_count": 1,
      "metadata": {
        "colab": {
          "base_uri": "https://localhost:8080/"
        },
        "id": "Snru_Zr8z9Id",
        "outputId": "a9377865-fd6f-4804-9fad-f5f6d66cd54e",
        "vscode": {
          "languageId": "r"
        }
      },
      "outputs": [
        {
          "name": "stderr",
          "output_type": "stream",
          "text": [
            "Installing package into ‘/usr/local/lib/R/site-library’\n",
            "(as ‘lib’ is unspecified)\n",
            "\n",
            "'getOption(\"repos\")' replaces Bioconductor standard repositories, see\n",
            "'help(\"repositories\", package = \"BiocManager\")' for details.\n",
            "Replacement repositories:\n",
            "    CRAN: https://cran.rstudio.com\n",
            "\n",
            "Bioconductor version 3.21 (BiocManager 1.30.26), R 4.5.0 (2025-04-11)\n",
            "\n",
            "Installing package(s) 'BiocVersion', 'TCGAbiolinks'\n",
            "\n",
            "system (cmd0): /usr/lib/R/bin/R CMD INSTALL\n",
            "\n",
            "also installing the dependencies ‘plogr’, ‘png’, ‘Biostrings’, ‘RSQLite’, ‘KEGGREST’, ‘filelock’, ‘UCSC.utils’, ‘GenomeInfoDbData’, ‘matrixStats’, ‘abind’, ‘SparseArray’, ‘AnnotationDbi’, ‘BiocFileCache’, ‘BiocGenerics’, ‘GenomeInfoDb’, ‘XVector’, ‘R.oo’, ‘R.methodsS3’, ‘MatrixGenerics’, ‘Biobase’, ‘S4Arrays’, ‘DelayedArray’, ‘downloader’, ‘biomaRt’, ‘GenomicRanges’, ‘XML’, ‘plyr’, ‘IRanges’, ‘S4Vectors’, ‘R.utils’, ‘SummarizedExperiment’, ‘TCGAbiolinksGUI.data’\n",
            "\n",
            "\n",
            "foundpkgs: plogr, png, Biostrings, RSQLite, KEGGREST, filelock, UCSC.utils, GenomeInfoDbData, matrixStats, abind, SparseArray, AnnotationDbi, BiocFileCache, BiocGenerics, GenomeInfoDb, XVector, R.oo, R.methodsS3, MatrixGenerics, Biobase, S4Arrays, DelayedArray, downloader, biomaRt, GenomicRanges, XML, plyr, IRanges, S4Vectors, R.utils, SummarizedExperiment, TCGAbiolinksGUI.data, BiocVersion, TCGAbiolinks, /tmp/RtmpROI9rc/downloaded_packages/plogr_0.2.0.tar.gz, /tmp/RtmpROI9rc/downloaded_packages/png_0.1-8.tar.gz, /tmp/RtmpROI9rc/downloaded_packages/Biostrings_2.76.0.tar.gz, /tmp/RtmpROI9rc/downloaded_packages/RSQLite_2.4.1.tar.gz, /tmp/RtmpROI9rc/downloaded_packages/KEGGREST_1.48.0.tar.gz, /tmp/RtmpROI9rc/downloaded_packages/filelock_1.0.3.tar.gz, /tmp/RtmpROI9rc/downloaded_packages/UCSC.utils_1.4.0.tar.gz, /tmp/RtmpROI9rc/downloaded_packages/GenomeInfoDbData_1.2.14.tar.gz, /tmp/RtmpROI9rc/downloaded_packages/matrixStats_1.5.0.tar.gz, /tmp/RtmpROI9rc/downloaded_packages/abind_1.4-8.tar.gz, /tmp/RtmpROI9rc/downloaded_packages/SparseArray_1.8.0.tar.gz, /tmp/RtmpROI9rc/downloaded_packages/AnnotationDbi_1.70.0.tar.gz, /tmp/RtmpROI9rc/downloaded_packages/BiocFileCache_2.16.0.tar.gz, /tmp/RtmpROI9rc/downloaded_packages/BiocGenerics_0.54.0.tar.gz, /tmp/RtmpROI9rc/downloaded_packages/GenomeInfoDb_1.44.0.tar.gz, /tmp/RtmpROI9rc/downloaded_packages/XVector_0.48.0.tar.gz, /tmp/RtmpROI9rc/downloaded_packages/R.oo_1.27.1.tar.gz, /tmp/RtmpROI9rc/downloaded_packages/R.methodsS3_1.8.2.tar.gz, /tmp/RtmpROI9rc/downloaded_packages/MatrixGenerics_1.20.0.tar.gz, /tmp/RtmpROI9rc/downloaded_packages/Biobase_2.68.0.tar.gz, /tmp/RtmpROI9rc/downloaded_packages/S4Arrays_1.8.1.tar.gz, /tmp/RtmpROI9rc/downloaded_packages/DelayedArray_0.34.1.tar.gz, /tmp/RtmpROI9rc/downloaded_packages/downloader_0.4.1.tar.gz, /tmp/RtmpROI9rc/downloaded_packages/biomaRt_2.64.0.tar.gz, /tmp/RtmpROI9rc/downloaded_packages/GenomicRanges_1.60.0.tar.gz, /tmp/RtmpROI9rc/downloaded_packages/XML_3.99-0.18.tar.gz, /tmp/RtmpROI9rc/downloaded_packages/plyr_1.8.9.tar.gz, /tmp/RtmpROI9rc/downloaded_packages/IRanges_2.42.0.tar.gz, /tmp/RtmpROI9rc/downloaded_packages/S4Vectors_0.46.0.tar.gz, /tmp/RtmpROI9rc/downloaded_packages/R.utils_2.13.0.tar.gz, /tmp/RtmpROI9rc/downloaded_packages/SummarizedExperiment_1.38.1.tar.gz, /tmp/RtmpROI9rc/downloaded_packages/TCGAbiolinksGUI.data_1.28.0.tar.gz, /tmp/RtmpROI9rc/downloaded_packages/BiocVersion_3.21.1.tar.gz, /tmp/RtmpROI9rc/downloaded_packages/TCGAbiolinks_2.36.0.tar.gz\n",
            "\n",
            "files: /tmp/RtmpROI9rc/downloaded_packages/plogr_0.2.0.tar.gz, \n",
            "\t/tmp/RtmpROI9rc/downloaded_packages/png_0.1-8.tar.gz, \n",
            "\t/tmp/RtmpROI9rc/downloaded_packages/Biostrings_2.76.0.tar.gz, \n",
            "\t/tmp/RtmpROI9rc/downloaded_packages/RSQLite_2.4.1.tar.gz, \n",
            "\t/tmp/RtmpROI9rc/downloaded_packages/KEGGREST_1.48.0.tar.gz, \n",
            "\t/tmp/RtmpROI9rc/downloaded_packages/filelock_1.0.3.tar.gz, \n",
            "\t/tmp/RtmpROI9rc/downloaded_packages/UCSC.utils_1.4.0.tar.gz, \n",
            "\t/tmp/RtmpROI9rc/downloaded_packages/GenomeInfoDbData_1.2.14.tar.gz, \n",
            "\t/tmp/RtmpROI9rc/downloaded_packages/matrixStats_1.5.0.tar.gz, \n",
            "\t/tmp/RtmpROI9rc/downloaded_packages/abind_1.4-8.tar.gz, \n",
            "\t/tmp/RtmpROI9rc/downloaded_packages/SparseArray_1.8.0.tar.gz, \n",
            "\t/tmp/RtmpROI9rc/downloaded_packages/AnnotationDbi_1.70.0.tar.gz, \n",
            "\t/tmp/RtmpROI9rc/downloaded_packages/BiocFileCache_2.16.0.tar.gz, \n",
            "\t/tmp/RtmpROI9rc/downloaded_packages/BiocGenerics_0.54.0.tar.gz, \n",
            "\t/tmp/RtmpROI9rc/downloaded_packages/GenomeInfoDb_1.44.0.tar.gz, \n",
            "\t/tmp/RtmpROI9rc/downloaded_packages/XVector_0.48.0.tar.gz, \n",
            "\t/tmp/RtmpROI9rc/downloaded_packages/R.oo_1.27.1.tar.gz, \n",
            "\t/tmp/RtmpROI9rc/downloaded_packages/R.methodsS3_1.8.2.tar.gz, \n",
            "\t/tmp/RtmpROI9rc/downloaded_packages/MatrixGenerics_1.20.0.tar.gz, \n",
            "\t/tmp/RtmpROI9rc/downloaded_packages/Biobase_2.68.0.tar.gz, \n",
            "\t/tmp/RtmpROI9rc/downloaded_packages/S4Arrays_1.8.1.tar.gz, \n",
            "\t/tmp/RtmpROI9rc/downloaded_packages/DelayedArray_0.34.1.tar.gz, \n",
            "\t/tmp/RtmpROI9rc/downloaded_packages/downloader_0.4.1.tar.gz, \n",
            "\t/tmp/RtmpROI9rc/downloaded_packages/biomaRt_2.64.0.tar.gz, \n",
            "\t/tmp/RtmpROI9rc/downloaded_packages/GenomicRanges_1.60.0.tar.gz, \n",
            "\t/tmp/RtmpROI9rc/downloaded_packages/XML_3.99-0.18.tar.gz, \n",
            "\t/tmp/RtmpROI9rc/downloaded_packages/plyr_1.8.9.tar.gz, \n",
            "\t/tmp/RtmpROI9rc/downloaded_packages/IRanges_2.42.0.tar.gz, \n",
            "\t/tmp/RtmpROI9rc/downloaded_packages/S4Vectors_0.46.0.tar.gz, \n",
            "\t/tmp/RtmpROI9rc/downloaded_packages/R.utils_2.13.0.tar.gz, \n",
            "\t/tmp/RtmpROI9rc/downloaded_packages/SummarizedExperiment_1.38.1.tar.gz, \n",
            "\t/tmp/RtmpROI9rc/downloaded_packages/TCGAbiolinksGUI.data_1.28.0.tar.gz, \n",
            "\t/tmp/RtmpROI9rc/downloaded_packages/BiocVersion_3.21.1.tar.gz, \n",
            "\t/tmp/RtmpROI9rc/downloaded_packages/TCGAbiolinks_2.36.0.tar.gz\n",
            "\n",
            "1): succeeded '/usr/lib/R/bin/R CMD INSTALL -l '/usr/local/lib/R/site-library' '/tmp/RtmpROI9rc/downloaded_packages/plogr_0.2.0.tar.gz''\n",
            "\n",
            "2): succeeded '/usr/lib/R/bin/R CMD INSTALL -l '/usr/local/lib/R/site-library' '/tmp/RtmpROI9rc/downloaded_packages/png_0.1-8.tar.gz''\n",
            "\n",
            "3): succeeded '/usr/lib/R/bin/R CMD INSTALL -l '/usr/local/lib/R/site-library' '/tmp/RtmpROI9rc/downloaded_packages/filelock_1.0.3.tar.gz''\n",
            "\n",
            "4): succeeded '/usr/lib/R/bin/R CMD INSTALL -l '/usr/local/lib/R/site-library' '/tmp/RtmpROI9rc/downloaded_packages/GenomeInfoDbData_1.2.14.tar.gz''\n",
            "\n",
            "5): succeeded '/usr/lib/R/bin/R CMD INSTALL -l '/usr/local/lib/R/site-library' '/tmp/RtmpROI9rc/downloaded_packages/matrixStats_1.5.0.tar.gz''\n",
            "\n",
            "6): succeeded '/usr/lib/R/bin/R CMD INSTALL -l '/usr/local/lib/R/site-library' '/tmp/RtmpROI9rc/downloaded_packages/abind_1.4-8.tar.gz''\n",
            "\n",
            "7): succeeded '/usr/lib/R/bin/R CMD INSTALL -l '/usr/local/lib/R/site-library' '/tmp/RtmpROI9rc/downloaded_packages/BiocGenerics_0.54.0.tar.gz''\n",
            "\n",
            "8): succeeded '/usr/lib/R/bin/R CMD INSTALL -l '/usr/local/lib/R/site-library' '/tmp/RtmpROI9rc/downloaded_packages/R.methodsS3_1.8.2.tar.gz''\n",
            "\n",
            "9): succeeded '/usr/lib/R/bin/R CMD INSTALL -l '/usr/local/lib/R/site-library' '/tmp/RtmpROI9rc/downloaded_packages/downloader_0.4.1.tar.gz''\n",
            "\n",
            "10): succeeded '/usr/lib/R/bin/R CMD INSTALL -l '/usr/local/lib/R/site-library' '/tmp/RtmpROI9rc/downloaded_packages/XML_3.99-0.18.tar.gz''\n",
            "\n",
            "11): succeeded '/usr/lib/R/bin/R CMD INSTALL -l '/usr/local/lib/R/site-library' '/tmp/RtmpROI9rc/downloaded_packages/plyr_1.8.9.tar.gz''\n",
            "\n",
            "12): succeeded '/usr/lib/R/bin/R CMD INSTALL -l '/usr/local/lib/R/site-library' '/tmp/RtmpROI9rc/downloaded_packages/TCGAbiolinksGUI.data_1.28.0.tar.gz''\n",
            "\n",
            "13): succeeded '/usr/lib/R/bin/R CMD INSTALL -l '/usr/local/lib/R/site-library' '/tmp/RtmpROI9rc/downloaded_packages/BiocVersion_3.21.1.tar.gz''\n",
            "\n",
            "14): succeeded '/usr/lib/R/bin/R CMD INSTALL -l '/usr/local/lib/R/site-library' '/tmp/RtmpROI9rc/downloaded_packages/RSQLite_2.4.1.tar.gz''\n",
            "\n",
            "15): succeeded '/usr/lib/R/bin/R CMD INSTALL -l '/usr/local/lib/R/site-library' '/tmp/RtmpROI9rc/downloaded_packages/R.oo_1.27.1.tar.gz''\n",
            "\n",
            "16): succeeded '/usr/lib/R/bin/R CMD INSTALL -l '/usr/local/lib/R/site-library' '/tmp/RtmpROI9rc/downloaded_packages/MatrixGenerics_1.20.0.tar.gz''\n",
            "\n",
            "17): succeeded '/usr/lib/R/bin/R CMD INSTALL -l '/usr/local/lib/R/site-library' '/tmp/RtmpROI9rc/downloaded_packages/Biobase_2.68.0.tar.gz''\n",
            "\n",
            "18): succeeded '/usr/lib/R/bin/R CMD INSTALL -l '/usr/local/lib/R/site-library' '/tmp/RtmpROI9rc/downloaded_packages/S4Vectors_0.46.0.tar.gz''\n",
            "\n",
            "19): succeeded '/usr/lib/R/bin/R CMD INSTALL -l '/usr/local/lib/R/site-library' '/tmp/RtmpROI9rc/downloaded_packages/UCSC.utils_1.4.0.tar.gz''\n",
            "\n",
            "20): succeeded '/usr/lib/R/bin/R CMD INSTALL -l '/usr/local/lib/R/site-library' '/tmp/RtmpROI9rc/downloaded_packages/BiocFileCache_2.16.0.tar.gz''\n",
            "\n",
            "21): succeeded '/usr/lib/R/bin/R CMD INSTALL -l '/usr/local/lib/R/site-library' '/tmp/RtmpROI9rc/downloaded_packages/IRanges_2.42.0.tar.gz''\n",
            "\n",
            "22): succeeded '/usr/lib/R/bin/R CMD INSTALL -l '/usr/local/lib/R/site-library' '/tmp/RtmpROI9rc/downloaded_packages/R.utils_2.13.0.tar.gz''\n",
            "\n",
            "23): succeeded '/usr/lib/R/bin/R CMD INSTALL -l '/usr/local/lib/R/site-library' '/tmp/RtmpROI9rc/downloaded_packages/GenomeInfoDb_1.44.0.tar.gz''\n",
            "\n",
            "24): succeeded '/usr/lib/R/bin/R CMD INSTALL -l '/usr/local/lib/R/site-library' '/tmp/RtmpROI9rc/downloaded_packages/XVector_0.48.0.tar.gz''\n",
            "\n",
            "25): succeeded '/usr/lib/R/bin/R CMD INSTALL -l '/usr/local/lib/R/site-library' '/tmp/RtmpROI9rc/downloaded_packages/S4Arrays_1.8.1.tar.gz''\n",
            "\n",
            "26): succeeded '/usr/lib/R/bin/R CMD INSTALL -l '/usr/local/lib/R/site-library' '/tmp/RtmpROI9rc/downloaded_packages/Biostrings_2.76.0.tar.gz''\n",
            "\n",
            "27): succeeded '/usr/lib/R/bin/R CMD INSTALL -l '/usr/local/lib/R/site-library' '/tmp/RtmpROI9rc/downloaded_packages/SparseArray_1.8.0.tar.gz''\n",
            "\n",
            "28): succeeded '/usr/lib/R/bin/R CMD INSTALL -l '/usr/local/lib/R/site-library' '/tmp/RtmpROI9rc/downloaded_packages/GenomicRanges_1.60.0.tar.gz''\n",
            "\n",
            "29): succeeded '/usr/lib/R/bin/R CMD INSTALL -l '/usr/local/lib/R/site-library' '/tmp/RtmpROI9rc/downloaded_packages/KEGGREST_1.48.0.tar.gz''\n",
            "\n",
            "30): succeeded '/usr/lib/R/bin/R CMD INSTALL -l '/usr/local/lib/R/site-library' '/tmp/RtmpROI9rc/downloaded_packages/DelayedArray_0.34.1.tar.gz''\n",
            "\n",
            "31): succeeded '/usr/lib/R/bin/R CMD INSTALL -l '/usr/local/lib/R/site-library' '/tmp/RtmpROI9rc/downloaded_packages/AnnotationDbi_1.70.0.tar.gz''\n",
            "\n",
            "32): succeeded '/usr/lib/R/bin/R CMD INSTALL -l '/usr/local/lib/R/site-library' '/tmp/RtmpROI9rc/downloaded_packages/SummarizedExperiment_1.38.1.tar.gz''\n",
            "\n",
            "33): succeeded '/usr/lib/R/bin/R CMD INSTALL -l '/usr/local/lib/R/site-library' '/tmp/RtmpROI9rc/downloaded_packages/biomaRt_2.64.0.tar.gz''\n",
            "\n",
            "34): succeeded '/usr/lib/R/bin/R CMD INSTALL -l '/usr/local/lib/R/site-library' '/tmp/RtmpROI9rc/downloaded_packages/TCGAbiolinks_2.36.0.tar.gz''\n",
            "\n"
          ]
        }
      ],
      "source": [
        "if (!requireNamespace(\"BiocManager\", quietly = TRUE))\n",
        "    install.packages(\"BiocManager\")\n",
        "\n",
        "BiocManager::install(\"TCGAbiolinks\", ask = FALSE, verbose = TRUE)"
      ]
    },
    {
      "cell_type": "code",
      "execution_count": 26,
      "metadata": {
        "colab": {
          "base_uri": "https://localhost:8080/"
        },
        "id": "AZ_5MroC-7si",
        "outputId": "04a7e1f4-8242-4a47-9667-90bbb006a650",
        "vscode": {
          "languageId": "r"
        }
      },
      "outputs": [
        {
          "name": "stderr",
          "output_type": "stream",
          "text": [
            "Loading required package: MatrixGenerics\n",
            "\n",
            "Loading required package: matrixStats\n",
            "\n",
            "\n",
            "Attaching package: ‘matrixStats’\n",
            "\n",
            "\n",
            "The following object is masked from ‘package:dplyr’:\n",
            "\n",
            "    count\n",
            "\n",
            "\n",
            "\n",
            "Attaching package: ‘MatrixGenerics’\n",
            "\n",
            "\n",
            "The following objects are masked from ‘package:matrixStats’:\n",
            "\n",
            "    colAlls, colAnyNAs, colAnys, colAvgsPerRowSet, colCollapse,\n",
            "    colCounts, colCummaxs, colCummins, colCumprods, colCumsums,\n",
            "    colDiffs, colIQRDiffs, colIQRs, colLogSumExps, colMadDiffs,\n",
            "    colMads, colMaxs, colMeans2, colMedians, colMins, colOrderStats,\n",
            "    colProds, colQuantiles, colRanges, colRanks, colSdDiffs, colSds,\n",
            "    colSums2, colTabulates, colVarDiffs, colVars, colWeightedMads,\n",
            "    colWeightedMeans, colWeightedMedians, colWeightedSds,\n",
            "    colWeightedVars, rowAlls, rowAnyNAs, rowAnys, rowAvgsPerColSet,\n",
            "    rowCollapse, rowCounts, rowCummaxs, rowCummins, rowCumprods,\n",
            "    rowCumsums, rowDiffs, rowIQRDiffs, rowIQRs, rowLogSumExps,\n",
            "    rowMadDiffs, rowMads, rowMaxs, rowMeans2, rowMedians, rowMins,\n",
            "    rowOrderStats, rowProds, rowQuantiles, rowRanges, rowRanks,\n",
            "    rowSdDiffs, rowSds, rowSums2, rowTabulates, rowVarDiffs, rowVars,\n",
            "    rowWeightedMads, rowWeightedMeans, rowWeightedMedians,\n",
            "    rowWeightedSds, rowWeightedVars\n",
            "\n",
            "\n",
            "Loading required package: GenomicRanges\n",
            "\n",
            "Loading required package: stats4\n",
            "\n",
            "Loading required package: BiocGenerics\n",
            "\n",
            "Loading required package: generics\n",
            "\n",
            "\n",
            "Attaching package: ‘generics’\n",
            "\n",
            "\n",
            "The following object is masked from ‘package:dplyr’:\n",
            "\n",
            "    explain\n",
            "\n",
            "\n",
            "The following objects are masked from ‘package:base’:\n",
            "\n",
            "    as.difftime, as.factor, as.ordered, intersect, is.element, setdiff,\n",
            "    setequal, union\n",
            "\n",
            "\n",
            "\n",
            "Attaching package: ‘BiocGenerics’\n",
            "\n",
            "\n",
            "The following object is masked from ‘package:dplyr’:\n",
            "\n",
            "    combine\n",
            "\n",
            "\n",
            "The following objects are masked from ‘package:stats’:\n",
            "\n",
            "    IQR, mad, sd, var, xtabs\n",
            "\n",
            "\n",
            "The following objects are masked from ‘package:base’:\n",
            "\n",
            "    anyDuplicated, aperm, append, as.data.frame, basename, cbind,\n",
            "    colnames, dirname, do.call, duplicated, eval, evalq, Filter, Find,\n",
            "    get, grep, grepl, is.unsorted, lapply, Map, mapply, match, mget,\n",
            "    order, paste, pmax, pmax.int, pmin, pmin.int, Position, rank,\n",
            "    rbind, Reduce, rownames, sapply, saveRDS, table, tapply, unique,\n",
            "    unsplit, which.max, which.min\n",
            "\n",
            "\n",
            "Loading required package: S4Vectors\n",
            "\n",
            "\n",
            "Attaching package: ‘S4Vectors’\n",
            "\n",
            "\n",
            "The following objects are masked from ‘package:dplyr’:\n",
            "\n",
            "    first, rename\n",
            "\n",
            "\n",
            "The following object is masked from ‘package:utils’:\n",
            "\n",
            "    findMatches\n",
            "\n",
            "\n",
            "The following objects are masked from ‘package:base’:\n",
            "\n",
            "    expand.grid, I, unname\n",
            "\n",
            "\n",
            "Loading required package: IRanges\n",
            "\n",
            "\n",
            "Attaching package: ‘IRanges’\n",
            "\n",
            "\n",
            "The following objects are masked from ‘package:dplyr’:\n",
            "\n",
            "    collapse, desc, slice\n",
            "\n",
            "\n",
            "Loading required package: GenomeInfoDb\n",
            "\n",
            "Loading required package: Biobase\n",
            "\n",
            "Welcome to Bioconductor\n",
            "\n",
            "    Vignettes contain introductory material; view with\n",
            "    'browseVignettes()'. To cite Bioconductor, see\n",
            "    'citation(\"Biobase\")', and for packages 'citation(\"pkgname\")'.\n",
            "\n",
            "\n",
            "\n",
            "Attaching package: ‘Biobase’\n",
            "\n",
            "\n",
            "The following object is masked from ‘package:MatrixGenerics’:\n",
            "\n",
            "    rowMedians\n",
            "\n",
            "\n",
            "The following objects are masked from ‘package:matrixStats’:\n",
            "\n",
            "    anyMissing, rowMedians\n",
            "\n",
            "\n"
          ]
        }
      ],
      "source": [
        "library(SummarizedExperiment)"
      ]
    },
    {
      "cell_type": "code",
      "execution_count": 1,
      "metadata": {
        "colab": {
          "base_uri": "https://localhost:8080/"
        },
        "id": "x8Kyh3w_1lr7",
        "outputId": "b010edd1-7aa9-4eb0-c55f-7f63f6ff3a6e",
        "vscode": {
          "languageId": "r"
        }
      },
      "outputs": [
        {
          "name": "stderr",
          "output_type": "stream",
          "text": [
            "\n",
            "Attaching package: ‘dplyr’\n",
            "\n",
            "\n",
            "The following objects are masked from ‘package:stats’:\n",
            "\n",
            "    filter, lag\n",
            "\n",
            "\n",
            "The following objects are masked from ‘package:base’:\n",
            "\n",
            "    intersect, setdiff, setequal, union\n",
            "\n",
            "\n"
          ]
        }
      ],
      "source": [
        "library(TCGAbiolinks)\n",
        "library(dplyr)\n",
        "library(tidyr)"
      ]
    },
    {
      "cell_type": "code",
      "execution_count": 15,
      "metadata": {
        "colab": {
          "base_uri": "https://localhost:8080/"
        },
        "id": "sNwbtnPk8hpK",
        "outputId": "e447288f-db7b-4d87-cd29-bd795b2a3a9d",
        "vscode": {
          "languageId": "r"
        }
      },
      "outputs": [
        {
          "name": "stderr",
          "output_type": "stream",
          "text": [
            "--------------------------------------\n",
            "\n",
            "o GDCquery: Searching in GDC database\n",
            "\n",
            "--------------------------------------\n",
            "\n",
            "Genome of reference: hg38\n",
            "\n",
            "--------------------------------------------\n",
            "\n",
            "oo Accessing GDC. This might take a while...\n",
            "\n",
            "--------------------------------------------\n",
            "\n",
            "ooo Project: TCGA-TGCT\n",
            "\n",
            "--------------------\n",
            "\n",
            "oo Filtering results\n",
            "\n",
            "--------------------\n",
            "\n",
            "ooo By data.type\n",
            "\n",
            "----------------\n",
            "\n",
            "oo Checking data\n",
            "\n",
            "----------------\n",
            "\n",
            "ooo Checking if there are duplicated cases\n",
            "\n",
            "ooo Checking if there are results for the query\n",
            "\n",
            "-------------------\n",
            "\n",
            "o Preparing output\n",
            "\n",
            "-------------------\n",
            "\n"
          ]
        }
      ],
      "source": [
        "query_miRNA <- GDCquery(\n",
        "  project = \"TCGA-TGCT\",\n",
        "  data.category = \"Transcriptome Profiling\",\n",
        "  data.type = \"Isoform Expression Quantification\",\n",
        ")"
      ]
    },
    {
      "cell_type": "code",
      "execution_count": 16,
      "metadata": {
        "colab": {
          "base_uri": "https://localhost:8080/"
        },
        "id": "g4BVAW1J8waG",
        "outputId": "3c77af25-a219-4667-9426-e33fe23c4586",
        "vscode": {
          "languageId": "r"
        }
      },
      "outputs": [
        {
          "name": "stderr",
          "output_type": "stream",
          "text": [
            "Downloading data for project TCGA-TGCT\n",
            "\n",
            "GDCdownload will download 156 files. A total of 86.396131 MB\n",
            "\n",
            "Downloading as: Mon_Jun_16_08_55_20_2025.tar.gz\n",
            "\n"
          ]
        },
        {
          "name": "stdout",
          "output_type": "stream",
          "text": [
            "Downloading: 9.6 MB     "
          ]
        }
      ],
      "source": [
        "GDCdownload(query_miRNA)"
      ]
    },
    {
      "cell_type": "code",
      "execution_count": 17,
      "metadata": {
        "colab": {
          "base_uri": "https://localhost:8080/"
        },
        "id": "E1L3vHJc82gF",
        "outputId": "2004ee91-5c3c-49bf-e2fe-b27bbfb5bbf3",
        "vscode": {
          "languageId": "r"
        }
      },
      "outputs": [
        {
          "name": "stdout",
          "output_type": "stream",
          "text": [
            "  |======================================================================| 100%\n"
          ]
        }
      ],
      "source": [
        "data <- GDCprepare(query_miRNA)"
      ]
    },
    {
      "cell_type": "code",
      "execution_count": 28,
      "metadata": {
        "colab": {
          "base_uri": "https://localhost:8080/",
          "height": 511
        },
        "id": "73oQ6dR2-Gtb",
        "outputId": "bb930225-324e-48b0-eb82-3366d0d4ee92",
        "vscode": {
          "languageId": "r"
        }
      },
      "outputs": [
        {
          "data": {
            "text/html": [
              "<table class=\"dataframe\">\n",
              "<caption>A tibble: 6 × 7</caption>\n",
              "<thead>\n",
              "\t<tr><th scope=col>miRNA_ID</th><th scope=col>isoform_coords</th><th scope=col>read_count</th><th scope=col>reads_per_million_miRNA_mapped</th><th scope=col>cross-mapped</th><th scope=col>miRNA_region</th><th scope=col>barcode</th></tr>\n",
              "\t<tr><th scope=col>&lt;chr&gt;</th><th scope=col>&lt;chr&gt;</th><th scope=col>&lt;int&gt;</th><th scope=col>&lt;dbl&gt;</th><th scope=col>&lt;chr&gt;</th><th scope=col>&lt;chr&gt;</th><th scope=col>&lt;chr&gt;</th></tr>\n",
              "</thead>\n",
              "<tbody>\n",
              "\t<tr><td>hsa-let-7a-1</td><td>hg38:chr9:94175942-94175962:+</td><td>    2</td><td>   0.304530</td><td>N</td><td>precursor          </td><td>TCGA-2G-AAF1-01A-11R-A439-13</td></tr>\n",
              "\t<tr><td>hsa-let-7a-1</td><td>hg38:chr9:94175961-94175982:+</td><td>    7</td><td>   1.065854</td><td>N</td><td>mature,MIMAT0000062</td><td>TCGA-2G-AAF1-01A-11R-A439-13</td></tr>\n",
              "\t<tr><td>hsa-let-7a-1</td><td>hg38:chr9:94175961-94175983:+</td><td>    4</td><td>   0.609059</td><td>N</td><td>mature,MIMAT0000062</td><td>TCGA-2G-AAF1-01A-11R-A439-13</td></tr>\n",
              "\t<tr><td>hsa-let-7a-1</td><td>hg38:chr9:94175961-94175984:+</td><td>   10</td><td>   1.522648</td><td>N</td><td>mature,MIMAT0000062</td><td>TCGA-2G-AAF1-01A-11R-A439-13</td></tr>\n",
              "\t<tr><td>hsa-let-7a-1</td><td>hg38:chr9:94175962-94175981:+</td><td>  413</td><td>  62.885382</td><td>N</td><td>mature,MIMAT0000062</td><td>TCGA-2G-AAF1-01A-11R-A439-13</td></tr>\n",
              "\t<tr><td>hsa-let-7a-1</td><td>hg38:chr9:94175962-94175982:+</td><td>12346</td><td>1879.861817</td><td>N</td><td>mature,MIMAT0000062</td><td>TCGA-2G-AAF1-01A-11R-A439-13</td></tr>\n",
              "</tbody>\n",
              "</table>\n"
            ],
            "text/latex": [
              "A tibble: 6 × 7\n",
              "\\begin{tabular}{lllllll}\n",
              " miRNA\\_ID & isoform\\_coords & read\\_count & reads\\_per\\_million\\_miRNA\\_mapped & cross-mapped & miRNA\\_region & barcode\\\\\n",
              " <chr> & <chr> & <int> & <dbl> & <chr> & <chr> & <chr>\\\\\n",
              "\\hline\n",
              "\t hsa-let-7a-1 & hg38:chr9:94175942-94175962:+ &     2 &    0.304530 & N & precursor           & TCGA-2G-AAF1-01A-11R-A439-13\\\\\n",
              "\t hsa-let-7a-1 & hg38:chr9:94175961-94175982:+ &     7 &    1.065854 & N & mature,MIMAT0000062 & TCGA-2G-AAF1-01A-11R-A439-13\\\\\n",
              "\t hsa-let-7a-1 & hg38:chr9:94175961-94175983:+ &     4 &    0.609059 & N & mature,MIMAT0000062 & TCGA-2G-AAF1-01A-11R-A439-13\\\\\n",
              "\t hsa-let-7a-1 & hg38:chr9:94175961-94175984:+ &    10 &    1.522648 & N & mature,MIMAT0000062 & TCGA-2G-AAF1-01A-11R-A439-13\\\\\n",
              "\t hsa-let-7a-1 & hg38:chr9:94175962-94175981:+ &   413 &   62.885382 & N & mature,MIMAT0000062 & TCGA-2G-AAF1-01A-11R-A439-13\\\\\n",
              "\t hsa-let-7a-1 & hg38:chr9:94175962-94175982:+ & 12346 & 1879.861817 & N & mature,MIMAT0000062 & TCGA-2G-AAF1-01A-11R-A439-13\\\\\n",
              "\\end{tabular}\n"
            ],
            "text/markdown": [
              "\n",
              "A tibble: 6 × 7\n",
              "\n",
              "| miRNA_ID &lt;chr&gt; | isoform_coords &lt;chr&gt; | read_count &lt;int&gt; | reads_per_million_miRNA_mapped &lt;dbl&gt; | cross-mapped &lt;chr&gt; | miRNA_region &lt;chr&gt; | barcode &lt;chr&gt; |\n",
              "|---|---|---|---|---|---|---|\n",
              "| hsa-let-7a-1 | hg38:chr9:94175942-94175962:+ |     2 |    0.304530 | N | precursor           | TCGA-2G-AAF1-01A-11R-A439-13 |\n",
              "| hsa-let-7a-1 | hg38:chr9:94175961-94175982:+ |     7 |    1.065854 | N | mature,MIMAT0000062 | TCGA-2G-AAF1-01A-11R-A439-13 |\n",
              "| hsa-let-7a-1 | hg38:chr9:94175961-94175983:+ |     4 |    0.609059 | N | mature,MIMAT0000062 | TCGA-2G-AAF1-01A-11R-A439-13 |\n",
              "| hsa-let-7a-1 | hg38:chr9:94175961-94175984:+ |    10 |    1.522648 | N | mature,MIMAT0000062 | TCGA-2G-AAF1-01A-11R-A439-13 |\n",
              "| hsa-let-7a-1 | hg38:chr9:94175962-94175981:+ |   413 |   62.885382 | N | mature,MIMAT0000062 | TCGA-2G-AAF1-01A-11R-A439-13 |\n",
              "| hsa-let-7a-1 | hg38:chr9:94175962-94175982:+ | 12346 | 1879.861817 | N | mature,MIMAT0000062 | TCGA-2G-AAF1-01A-11R-A439-13 |\n",
              "\n"
            ],
            "text/plain": [
              "  miRNA_ID     isoform_coords                read_count\n",
              "1 hsa-let-7a-1 hg38:chr9:94175942-94175962:+     2     \n",
              "2 hsa-let-7a-1 hg38:chr9:94175961-94175982:+     7     \n",
              "3 hsa-let-7a-1 hg38:chr9:94175961-94175983:+     4     \n",
              "4 hsa-let-7a-1 hg38:chr9:94175961-94175984:+    10     \n",
              "5 hsa-let-7a-1 hg38:chr9:94175962-94175981:+   413     \n",
              "6 hsa-let-7a-1 hg38:chr9:94175962-94175982:+ 12346     \n",
              "  reads_per_million_miRNA_mapped cross-mapped miRNA_region       \n",
              "1    0.304530                    N            precursor          \n",
              "2    1.065854                    N            mature,MIMAT0000062\n",
              "3    0.609059                    N            mature,MIMAT0000062\n",
              "4    1.522648                    N            mature,MIMAT0000062\n",
              "5   62.885382                    N            mature,MIMAT0000062\n",
              "6 1879.861817                    N            mature,MIMAT0000062\n",
              "  barcode                     \n",
              "1 TCGA-2G-AAF1-01A-11R-A439-13\n",
              "2 TCGA-2G-AAF1-01A-11R-A439-13\n",
              "3 TCGA-2G-AAF1-01A-11R-A439-13\n",
              "4 TCGA-2G-AAF1-01A-11R-A439-13\n",
              "5 TCGA-2G-AAF1-01A-11R-A439-13\n",
              "6 TCGA-2G-AAF1-01A-11R-A439-13"
            ]
          },
          "metadata": {},
          "output_type": "display_data"
        }
      ],
      "source": [
        "head(data)"
      ]
    },
    {
      "cell_type": "code",
      "execution_count": 34,
      "metadata": {
        "id": "txsYsYG4BZIO",
        "vscode": {
          "languageId": "r"
        }
      },
      "outputs": [],
      "source": [
        "data_summarized <- data %>%\n",
        "  mutate(miRNA_id_and_region = paste(miRNA_ID, miRNA_region, sep = \", \"))"
      ]
    },
    {
      "cell_type": "code",
      "execution_count": 35,
      "metadata": {
        "id": "Y2jc2lOtBnby",
        "vscode": {
          "languageId": "r"
        }
      },
      "outputs": [],
      "source": [
        "aggregated_data_rpm <- data_summarized %>%\n",
        "  group_by(miRNA_id_and_region, barcode) %>%\n",
        "  summarise(total_reads_per_million_miRNA_mapped = sum(reads_per_million_miRNA_mapped), .groups = \"drop\")"
      ]
    },
    {
      "cell_type": "code",
      "execution_count": 39,
      "metadata": {
        "id": "c-e5RWfzCUml",
        "vscode": {
          "languageId": "r"
        }
      },
      "outputs": [],
      "source": [
        "final_aggregated_data_rpm <- aggregated_data_rpm %>%\n",
        "  pivot_wider(names_from = barcode, values_from = total_reads_per_million_miRNA_mapped)"
      ]
    },
    {
      "cell_type": "code",
      "execution_count": 40,
      "metadata": {
        "colab": {
          "base_uri": "https://localhost:8080/",
          "height": 427
        },
        "id": "fjEwRW3rB9N-",
        "outputId": "af6506ff-5861-4cb9-c504-2edc9ceb42d5",
        "vscode": {
          "languageId": "r"
        }
      },
      "outputs": [
        {
          "data": {
            "text/html": [
              "<table class=\"dataframe\">\n",
              "<caption>A tibble: 6 × 157</caption>\n",
              "<thead>\n",
              "\t<tr><th scope=col>miRNA_id_and_region</th><th scope=col>TCGA-2G-AAEW-01A-11R-A439-13</th><th scope=col>TCGA-2G-AAEX-01A-11R-A439-13</th><th scope=col>TCGA-2G-AAF1-01A-11R-A439-13</th><th scope=col>TCGA-2G-AAF4-01A-11R-A439-13</th><th scope=col>TCGA-2G-AAF6-01A-11R-A439-13</th><th scope=col>TCGA-2G-AAF8-01A-11R-A439-13</th><th scope=col>TCGA-2G-AAFE-01A-11R-A439-13</th><th scope=col>TCGA-2G-AAFG-01A-11R-A439-13</th><th scope=col>TCGA-2G-AAFG-05A-11R-A439-13</th><th scope=col>⋯</th><th scope=col>TCGA-YU-AA4L-01A-11R-A43A-13</th><th scope=col>TCGA-YU-AA61-01A-11R-A43A-13</th><th scope=col>TCGA-ZM-AA05-01A-12R-A43A-13</th><th scope=col>TCGA-ZM-AA06-01A-12R-A43A-13</th><th scope=col>TCGA-ZM-AA0B-01A-11R-A43A-13</th><th scope=col>TCGA-ZM-AA0D-01A-11R-A43A-13</th><th scope=col>TCGA-ZM-AA0E-01A-12R-A43A-13</th><th scope=col>TCGA-ZM-AA0F-01A-21R-A43A-13</th><th scope=col>TCGA-ZM-AA0H-01A-11R-A43A-13</th><th scope=col>TCGA-ZM-AA0N-01A-21R-A43A-13</th></tr>\n",
              "\t<tr><th scope=col>&lt;chr&gt;</th><th scope=col>&lt;dbl&gt;</th><th scope=col>&lt;dbl&gt;</th><th scope=col>&lt;dbl&gt;</th><th scope=col>&lt;dbl&gt;</th><th scope=col>&lt;dbl&gt;</th><th scope=col>&lt;dbl&gt;</th><th scope=col>&lt;dbl&gt;</th><th scope=col>&lt;dbl&gt;</th><th scope=col>&lt;dbl&gt;</th><th scope=col>⋯</th><th scope=col>&lt;dbl&gt;</th><th scope=col>&lt;dbl&gt;</th><th scope=col>&lt;dbl&gt;</th><th scope=col>&lt;dbl&gt;</th><th scope=col>&lt;dbl&gt;</th><th scope=col>&lt;dbl&gt;</th><th scope=col>&lt;dbl&gt;</th><th scope=col>&lt;dbl&gt;</th><th scope=col>&lt;dbl&gt;</th><th scope=col>&lt;dbl&gt;</th></tr>\n",
              "</thead>\n",
              "<tbody>\n",
              "\t<tr><td>hsa-let-7a-1, mature,MIMAT0000062</td><td>6619.132919</td><td>7412.830012</td><td>7711.910036</td><td>6090.723837</td><td>8102.343665</td><td>5459.291185</td><td>7449.903730</td><td>6551.645084</td><td>9446.725221</td><td>⋯</td><td>2832.443917</td><td>9104.099446</td><td>6668.826594</td><td>5451.417069</td><td>5148.370818</td><td>6938.135815</td><td>3701.072497</td><td>8413.282384</td><td>5926.730879</td><td>8547.070595</td></tr>\n",
              "\t<tr><td>hsa-let-7a-1, mature,MIMAT0004481</td><td>   4.294653</td><td>   3.647631</td><td>   5.938329</td><td>   6.816354</td><td>   6.972757</td><td>   7.579871</td><td>   8.014657</td><td>   4.291940</td><td>  10.525468</td><td>⋯</td><td>   3.661307</td><td>  12.330930</td><td>   8.466788</td><td>   4.913399</td><td>   7.076356</td><td>   9.688443</td><td>   9.122140</td><td>   6.207074</td><td>  11.366958</td><td>   7.440915</td></tr>\n",
              "\t<tr><td>hsa-let-7a-1, precursor          </td><td>   0.671040</td><td>   0.561174</td><td>   0.304530</td><td>   0.929503</td><td>   0.410162</td><td>   1.337624</td><td>   0.745550</td><td>         NA</td><td>   0.467799</td><td>⋯</td><td>   0.563278</td><td>   0.237133</td><td>   0.214349</td><td>         NA</td><td>   0.428870</td><td>   0.605528</td><td>         NA</td><td>   0.269874</td><td>   0.252600</td><td>   0.544457</td></tr>\n",
              "\t<tr><td>hsa-let-7a-1, stemloop           </td><td>         NA</td><td>         NA</td><td>         NA</td><td>         NA</td><td>         NA</td><td>   0.445875</td><td>   0.186387</td><td>         NA</td><td>   0.233899</td><td>⋯</td><td>         NA</td><td>   0.316177</td><td>   0.214350</td><td>         NA</td><td>   0.214435</td><td>   0.151382</td><td>   0.471835</td><td>   0.089958</td><td>         NA</td><td>         NA</td></tr>\n",
              "\t<tr><td>hsa-let-7a-2, mature,MIMAT0000062</td><td>6651.745435</td><td>7454.356898</td><td>7686.786336</td><td>6134.410483</td><td>8174.122047</td><td>5449.927814</td><td>7403.493271</td><td>6495.849874</td><td>9354.334994</td><td>⋯</td><td>2854.975041</td><td>9138.167594</td><td>6618.240226</td><td>5416.102006</td><td>5147.727513</td><td>6837.012697</td><td>3620.860572</td><td>8343.205428</td><td>5898.060892</td><td>8565.037680</td></tr>\n",
              "\t<tr><td>hsa-let-7a-2, mature,MIMAT0010195</td><td>   1.744703</td><td>   2.525284</td><td>   1.370384</td><td>   3.408178</td><td>   0.820324</td><td>   1.783500</td><td>   2.423036</td><td>   2.861293</td><td>   5.145785</td><td>⋯</td><td>         NA</td><td>  12.251886</td><td>   4.072632</td><td>   7.063012</td><td>   1.929915</td><td>   1.362437</td><td>   1.572782</td><td>   4.138050</td><td>   3.788986</td><td>   3.992685</td></tr>\n",
              "</tbody>\n",
              "</table>\n"
            ],
            "text/latex": [
              "A tibble: 6 × 157\n",
              "\\begin{tabular}{lllllllllllllllllllll}\n",
              " miRNA\\_id\\_and\\_region & TCGA-2G-AAEW-01A-11R-A439-13 & TCGA-2G-AAEX-01A-11R-A439-13 & TCGA-2G-AAF1-01A-11R-A439-13 & TCGA-2G-AAF4-01A-11R-A439-13 & TCGA-2G-AAF6-01A-11R-A439-13 & TCGA-2G-AAF8-01A-11R-A439-13 & TCGA-2G-AAFE-01A-11R-A439-13 & TCGA-2G-AAFG-01A-11R-A439-13 & TCGA-2G-AAFG-05A-11R-A439-13 & ⋯ & TCGA-YU-AA4L-01A-11R-A43A-13 & TCGA-YU-AA61-01A-11R-A43A-13 & TCGA-ZM-AA05-01A-12R-A43A-13 & TCGA-ZM-AA06-01A-12R-A43A-13 & TCGA-ZM-AA0B-01A-11R-A43A-13 & TCGA-ZM-AA0D-01A-11R-A43A-13 & TCGA-ZM-AA0E-01A-12R-A43A-13 & TCGA-ZM-AA0F-01A-21R-A43A-13 & TCGA-ZM-AA0H-01A-11R-A43A-13 & TCGA-ZM-AA0N-01A-21R-A43A-13\\\\\n",
              " <chr> & <dbl> & <dbl> & <dbl> & <dbl> & <dbl> & <dbl> & <dbl> & <dbl> & <dbl> & ⋯ & <dbl> & <dbl> & <dbl> & <dbl> & <dbl> & <dbl> & <dbl> & <dbl> & <dbl> & <dbl>\\\\\n",
              "\\hline\n",
              "\t hsa-let-7a-1, mature,MIMAT0000062 & 6619.132919 & 7412.830012 & 7711.910036 & 6090.723837 & 8102.343665 & 5459.291185 & 7449.903730 & 6551.645084 & 9446.725221 & ⋯ & 2832.443917 & 9104.099446 & 6668.826594 & 5451.417069 & 5148.370818 & 6938.135815 & 3701.072497 & 8413.282384 & 5926.730879 & 8547.070595\\\\\n",
              "\t hsa-let-7a-1, mature,MIMAT0004481 &    4.294653 &    3.647631 &    5.938329 &    6.816354 &    6.972757 &    7.579871 &    8.014657 &    4.291940 &   10.525468 & ⋯ &    3.661307 &   12.330930 &    8.466788 &    4.913399 &    7.076356 &    9.688443 &    9.122140 &    6.207074 &   11.366958 &    7.440915\\\\\n",
              "\t hsa-let-7a-1, precursor           &    0.671040 &    0.561174 &    0.304530 &    0.929503 &    0.410162 &    1.337624 &    0.745550 &          NA &    0.467799 & ⋯ &    0.563278 &    0.237133 &    0.214349 &          NA &    0.428870 &    0.605528 &          NA &    0.269874 &    0.252600 &    0.544457\\\\\n",
              "\t hsa-let-7a-1, stemloop            &          NA &          NA &          NA &          NA &          NA &    0.445875 &    0.186387 &          NA &    0.233899 & ⋯ &          NA &    0.316177 &    0.214350 &          NA &    0.214435 &    0.151382 &    0.471835 &    0.089958 &          NA &          NA\\\\\n",
              "\t hsa-let-7a-2, mature,MIMAT0000062 & 6651.745435 & 7454.356898 & 7686.786336 & 6134.410483 & 8174.122047 & 5449.927814 & 7403.493271 & 6495.849874 & 9354.334994 & ⋯ & 2854.975041 & 9138.167594 & 6618.240226 & 5416.102006 & 5147.727513 & 6837.012697 & 3620.860572 & 8343.205428 & 5898.060892 & 8565.037680\\\\\n",
              "\t hsa-let-7a-2, mature,MIMAT0010195 &    1.744703 &    2.525284 &    1.370384 &    3.408178 &    0.820324 &    1.783500 &    2.423036 &    2.861293 &    5.145785 & ⋯ &          NA &   12.251886 &    4.072632 &    7.063012 &    1.929915 &    1.362437 &    1.572782 &    4.138050 &    3.788986 &    3.992685\\\\\n",
              "\\end{tabular}\n"
            ],
            "text/markdown": [
              "\n",
              "A tibble: 6 × 157\n",
              "\n",
              "| miRNA_id_and_region &lt;chr&gt; | TCGA-2G-AAEW-01A-11R-A439-13 &lt;dbl&gt; | TCGA-2G-AAEX-01A-11R-A439-13 &lt;dbl&gt; | TCGA-2G-AAF1-01A-11R-A439-13 &lt;dbl&gt; | TCGA-2G-AAF4-01A-11R-A439-13 &lt;dbl&gt; | TCGA-2G-AAF6-01A-11R-A439-13 &lt;dbl&gt; | TCGA-2G-AAF8-01A-11R-A439-13 &lt;dbl&gt; | TCGA-2G-AAFE-01A-11R-A439-13 &lt;dbl&gt; | TCGA-2G-AAFG-01A-11R-A439-13 &lt;dbl&gt; | TCGA-2G-AAFG-05A-11R-A439-13 &lt;dbl&gt; | ⋯ ⋯ | TCGA-YU-AA4L-01A-11R-A43A-13 &lt;dbl&gt; | TCGA-YU-AA61-01A-11R-A43A-13 &lt;dbl&gt; | TCGA-ZM-AA05-01A-12R-A43A-13 &lt;dbl&gt; | TCGA-ZM-AA06-01A-12R-A43A-13 &lt;dbl&gt; | TCGA-ZM-AA0B-01A-11R-A43A-13 &lt;dbl&gt; | TCGA-ZM-AA0D-01A-11R-A43A-13 &lt;dbl&gt; | TCGA-ZM-AA0E-01A-12R-A43A-13 &lt;dbl&gt; | TCGA-ZM-AA0F-01A-21R-A43A-13 &lt;dbl&gt; | TCGA-ZM-AA0H-01A-11R-A43A-13 &lt;dbl&gt; | TCGA-ZM-AA0N-01A-21R-A43A-13 &lt;dbl&gt; |\n",
              "|---|---|---|---|---|---|---|---|---|---|---|---|---|---|---|---|---|---|---|---|---|\n",
              "| hsa-let-7a-1, mature,MIMAT0000062 | 6619.132919 | 7412.830012 | 7711.910036 | 6090.723837 | 8102.343665 | 5459.291185 | 7449.903730 | 6551.645084 | 9446.725221 | ⋯ | 2832.443917 | 9104.099446 | 6668.826594 | 5451.417069 | 5148.370818 | 6938.135815 | 3701.072497 | 8413.282384 | 5926.730879 | 8547.070595 |\n",
              "| hsa-let-7a-1, mature,MIMAT0004481 |    4.294653 |    3.647631 |    5.938329 |    6.816354 |    6.972757 |    7.579871 |    8.014657 |    4.291940 |   10.525468 | ⋯ |    3.661307 |   12.330930 |    8.466788 |    4.913399 |    7.076356 |    9.688443 |    9.122140 |    6.207074 |   11.366958 |    7.440915 |\n",
              "| hsa-let-7a-1, precursor           |    0.671040 |    0.561174 |    0.304530 |    0.929503 |    0.410162 |    1.337624 |    0.745550 |          NA |    0.467799 | ⋯ |    0.563278 |    0.237133 |    0.214349 |          NA |    0.428870 |    0.605528 |          NA |    0.269874 |    0.252600 |    0.544457 |\n",
              "| hsa-let-7a-1, stemloop            |          NA |          NA |          NA |          NA |          NA |    0.445875 |    0.186387 |          NA |    0.233899 | ⋯ |          NA |    0.316177 |    0.214350 |          NA |    0.214435 |    0.151382 |    0.471835 |    0.089958 |          NA |          NA |\n",
              "| hsa-let-7a-2, mature,MIMAT0000062 | 6651.745435 | 7454.356898 | 7686.786336 | 6134.410483 | 8174.122047 | 5449.927814 | 7403.493271 | 6495.849874 | 9354.334994 | ⋯ | 2854.975041 | 9138.167594 | 6618.240226 | 5416.102006 | 5147.727513 | 6837.012697 | 3620.860572 | 8343.205428 | 5898.060892 | 8565.037680 |\n",
              "| hsa-let-7a-2, mature,MIMAT0010195 |    1.744703 |    2.525284 |    1.370384 |    3.408178 |    0.820324 |    1.783500 |    2.423036 |    2.861293 |    5.145785 | ⋯ |          NA |   12.251886 |    4.072632 |    7.063012 |    1.929915 |    1.362437 |    1.572782 |    4.138050 |    3.788986 |    3.992685 |\n",
              "\n"
            ],
            "text/plain": [
              "  miRNA_id_and_region               TCGA-2G-AAEW-01A-11R-A439-13\n",
              "1 hsa-let-7a-1, mature,MIMAT0000062 6619.132919                 \n",
              "2 hsa-let-7a-1, mature,MIMAT0004481    4.294653                 \n",
              "3 hsa-let-7a-1, precursor              0.671040                 \n",
              "4 hsa-let-7a-1, stemloop                     NA                 \n",
              "5 hsa-let-7a-2, mature,MIMAT0000062 6651.745435                 \n",
              "6 hsa-let-7a-2, mature,MIMAT0010195    1.744703                 \n",
              "  TCGA-2G-AAEX-01A-11R-A439-13 TCGA-2G-AAF1-01A-11R-A439-13\n",
              "1 7412.830012                  7711.910036                 \n",
              "2    3.647631                     5.938329                 \n",
              "3    0.561174                     0.304530                 \n",
              "4          NA                           NA                 \n",
              "5 7454.356898                  7686.786336                 \n",
              "6    2.525284                     1.370384                 \n",
              "  TCGA-2G-AAF4-01A-11R-A439-13 TCGA-2G-AAF6-01A-11R-A439-13\n",
              "1 6090.723837                  8102.343665                 \n",
              "2    6.816354                     6.972757                 \n",
              "3    0.929503                     0.410162                 \n",
              "4          NA                           NA                 \n",
              "5 6134.410483                  8174.122047                 \n",
              "6    3.408178                     0.820324                 \n",
              "  TCGA-2G-AAF8-01A-11R-A439-13 TCGA-2G-AAFE-01A-11R-A439-13\n",
              "1 5459.291185                  7449.903730                 \n",
              "2    7.579871                     8.014657                 \n",
              "3    1.337624                     0.745550                 \n",
              "4    0.445875                     0.186387                 \n",
              "5 5449.927814                  7403.493271                 \n",
              "6    1.783500                     2.423036                 \n",
              "  TCGA-2G-AAFG-01A-11R-A439-13 TCGA-2G-AAFG-05A-11R-A439-13 ⋯\n",
              "1 6551.645084                  9446.725221                  ⋯\n",
              "2    4.291940                    10.525468                  ⋯\n",
              "3          NA                     0.467799                  ⋯\n",
              "4          NA                     0.233899                  ⋯\n",
              "5 6495.849874                  9354.334994                  ⋯\n",
              "6    2.861293                     5.145785                  ⋯\n",
              "  TCGA-YU-AA4L-01A-11R-A43A-13 TCGA-YU-AA61-01A-11R-A43A-13\n",
              "1 2832.443917                  9104.099446                 \n",
              "2    3.661307                    12.330930                 \n",
              "3    0.563278                     0.237133                 \n",
              "4          NA                     0.316177                 \n",
              "5 2854.975041                  9138.167594                 \n",
              "6          NA                    12.251886                 \n",
              "  TCGA-ZM-AA05-01A-12R-A43A-13 TCGA-ZM-AA06-01A-12R-A43A-13\n",
              "1 6668.826594                  5451.417069                 \n",
              "2    8.466788                     4.913399                 \n",
              "3    0.214349                           NA                 \n",
              "4    0.214350                           NA                 \n",
              "5 6618.240226                  5416.102006                 \n",
              "6    4.072632                     7.063012                 \n",
              "  TCGA-ZM-AA0B-01A-11R-A43A-13 TCGA-ZM-AA0D-01A-11R-A43A-13\n",
              "1 5148.370818                  6938.135815                 \n",
              "2    7.076356                     9.688443                 \n",
              "3    0.428870                     0.605528                 \n",
              "4    0.214435                     0.151382                 \n",
              "5 5147.727513                  6837.012697                 \n",
              "6    1.929915                     1.362437                 \n",
              "  TCGA-ZM-AA0E-01A-12R-A43A-13 TCGA-ZM-AA0F-01A-21R-A43A-13\n",
              "1 3701.072497                  8413.282384                 \n",
              "2    9.122140                     6.207074                 \n",
              "3          NA                     0.269874                 \n",
              "4    0.471835                     0.089958                 \n",
              "5 3620.860572                  8343.205428                 \n",
              "6    1.572782                     4.138050                 \n",
              "  TCGA-ZM-AA0H-01A-11R-A43A-13 TCGA-ZM-AA0N-01A-21R-A43A-13\n",
              "1 5926.730879                  8547.070595                 \n",
              "2   11.366958                     7.440915                 \n",
              "3    0.252600                     0.544457                 \n",
              "4          NA                           NA                 \n",
              "5 5898.060892                  8565.037680                 \n",
              "6    3.788986                     3.992685                 "
            ]
          },
          "metadata": {},
          "output_type": "display_data"
        }
      ],
      "source": [
        "head(final_aggregated_data_rpm)"
      ]
    },
    {
      "cell_type": "code",
      "execution_count": 41,
      "metadata": {
        "id": "ocfwRQs0_pLX",
        "vscode": {
          "languageId": "r"
        }
      },
      "outputs": [],
      "source": [
        "write.csv2(final_aggregated_data_rpm, \"TCGA_TGCT_mirna_isoform_data_rpm.csv\", row.names = FALSE)"
      ]
    },
    {
      "cell_type": "code",
      "execution_count": 48,
      "metadata": {
        "id": "QqL3mHAxDyGm",
        "vscode": {
          "languageId": "r"
        }
      },
      "outputs": [],
      "source": [
        "aggregated_data_raw_counts <- data_summarized %>%\n",
        "  group_by(miRNA_id_and_region, barcode) %>%\n",
        "  summarise(total_read_counts = sum(read_count), .groups = \"drop\")"
      ]
    },
    {
      "cell_type": "code",
      "execution_count": 50,
      "metadata": {
        "id": "RVPCH8CMEIEC",
        "vscode": {
          "languageId": "r"
        }
      },
      "outputs": [],
      "source": [
        "final_aggregated_data_raw_counts <- aggregated_data_raw_counts %>%\n",
        "  pivot_wider(names_from = barcode, values_from = total_read_counts)"
      ]
    },
    {
      "cell_type": "code",
      "execution_count": 52,
      "metadata": {
        "colab": {
          "base_uri": "https://localhost:8080/",
          "height": 479
        },
        "id": "bAyQfPakEeyN",
        "outputId": "2c70fe15-9d84-450f-e867-6b0f6b1c4e8a",
        "vscode": {
          "languageId": "r"
        }
      },
      "outputs": [
        {
          "data": {
            "text/html": [
              "<table class=\"dataframe\">\n",
              "<caption>A tibble: 6 × 157</caption>\n",
              "<thead>\n",
              "\t<tr><th scope=col>miRNA_id_and_region</th><th scope=col>TCGA-2G-AAEW-01A-11R-A439-13</th><th scope=col>TCGA-2G-AAEX-01A-11R-A439-13</th><th scope=col>TCGA-2G-AAF1-01A-11R-A439-13</th><th scope=col>TCGA-2G-AAF4-01A-11R-A439-13</th><th scope=col>TCGA-2G-AAF6-01A-11R-A439-13</th><th scope=col>TCGA-2G-AAF8-01A-11R-A439-13</th><th scope=col>TCGA-2G-AAFE-01A-11R-A439-13</th><th scope=col>TCGA-2G-AAFG-01A-11R-A439-13</th><th scope=col>TCGA-2G-AAFG-05A-11R-A439-13</th><th scope=col>⋯</th><th scope=col>TCGA-YU-AA4L-01A-11R-A43A-13</th><th scope=col>TCGA-YU-AA61-01A-11R-A43A-13</th><th scope=col>TCGA-ZM-AA05-01A-12R-A43A-13</th><th scope=col>TCGA-ZM-AA06-01A-12R-A43A-13</th><th scope=col>TCGA-ZM-AA0B-01A-11R-A43A-13</th><th scope=col>TCGA-ZM-AA0D-01A-11R-A43A-13</th><th scope=col>TCGA-ZM-AA0E-01A-12R-A43A-13</th><th scope=col>TCGA-ZM-AA0F-01A-21R-A43A-13</th><th scope=col>TCGA-ZM-AA0H-01A-11R-A43A-13</th><th scope=col>TCGA-ZM-AA0N-01A-21R-A43A-13</th></tr>\n",
              "\t<tr><th scope=col>&lt;chr&gt;</th><th scope=col>&lt;int&gt;</th><th scope=col>&lt;int&gt;</th><th scope=col>&lt;int&gt;</th><th scope=col>&lt;int&gt;</th><th scope=col>&lt;int&gt;</th><th scope=col>&lt;int&gt;</th><th scope=col>&lt;int&gt;</th><th scope=col>&lt;int&gt;</th><th scope=col>&lt;int&gt;</th><th scope=col>⋯</th><th scope=col>&lt;int&gt;</th><th scope=col>&lt;int&gt;</th><th scope=col>&lt;int&gt;</th><th scope=col>&lt;int&gt;</th><th scope=col>&lt;int&gt;</th><th scope=col>&lt;int&gt;</th><th scope=col>&lt;int&gt;</th><th scope=col>&lt;int&gt;</th><th scope=col>&lt;int&gt;</th><th scope=col>&lt;int&gt;</th></tr>\n",
              "</thead>\n",
              "<tbody>\n",
              "\t<tr><td>hsa-let-7a-1, mature,MIMAT0000062</td><td>49320</td><td>26419</td><td>50648</td><td>19658</td><td>19754</td><td>12244</td><td>39970</td><td>18318</td><td>40388</td><td>⋯</td><td>10057</td><td>115177</td><td>62224</td><td>17752</td><td>24009</td><td>45832</td><td>23532</td><td>93525</td><td>46926</td><td>47095</td></tr>\n",
              "\t<tr><td>hsa-let-7a-1, mature,MIMAT0004481</td><td>   32</td><td>   13</td><td>   39</td><td>   22</td><td>   17</td><td>   17</td><td>   43</td><td>   12</td><td>   45</td><td>⋯</td><td>   13</td><td>   156</td><td>   79</td><td>   16</td><td>   33</td><td>   64</td><td>   58</td><td>   69</td><td>   90</td><td>   41</td></tr>\n",
              "\t<tr><td>hsa-let-7a-1, precursor          </td><td>    5</td><td>    2</td><td>    2</td><td>    3</td><td>    1</td><td>    3</td><td>    4</td><td>   NA</td><td>    2</td><td>⋯</td><td>    2</td><td>     3</td><td>    2</td><td>   NA</td><td>    2</td><td>    4</td><td>   NA</td><td>    3</td><td>    2</td><td>    3</td></tr>\n",
              "\t<tr><td>hsa-let-7a-1, stemloop           </td><td>   NA</td><td>   NA</td><td>   NA</td><td>   NA</td><td>   NA</td><td>    1</td><td>    1</td><td>   NA</td><td>    1</td><td>⋯</td><td>   NA</td><td>     4</td><td>    2</td><td>   NA</td><td>    1</td><td>    1</td><td>    3</td><td>    1</td><td>   NA</td><td>   NA</td></tr>\n",
              "\t<tr><td>hsa-let-7a-2, mature,MIMAT0000062</td><td>49563</td><td>26567</td><td>50483</td><td>19799</td><td>19929</td><td>12223</td><td>39721</td><td>18162</td><td>39993</td><td>⋯</td><td>10137</td><td>115608</td><td>61752</td><td>17637</td><td>24006</td><td>45164</td><td>23022</td><td>92746</td><td>46699</td><td>47194</td></tr>\n",
              "\t<tr><td>hsa-let-7a-2, mature,MIMAT0010195</td><td>   13</td><td>    9</td><td>    9</td><td>   11</td><td>    2</td><td>    4</td><td>   13</td><td>    8</td><td>   22</td><td>⋯</td><td>   NA</td><td>   155</td><td>   38</td><td>   23</td><td>    9</td><td>    9</td><td>   10</td><td>   46</td><td>   30</td><td>   22</td></tr>\n",
              "</tbody>\n",
              "</table>\n"
            ],
            "text/latex": [
              "A tibble: 6 × 157\n",
              "\\begin{tabular}{lllllllllllllllllllll}\n",
              " miRNA\\_id\\_and\\_region & TCGA-2G-AAEW-01A-11R-A439-13 & TCGA-2G-AAEX-01A-11R-A439-13 & TCGA-2G-AAF1-01A-11R-A439-13 & TCGA-2G-AAF4-01A-11R-A439-13 & TCGA-2G-AAF6-01A-11R-A439-13 & TCGA-2G-AAF8-01A-11R-A439-13 & TCGA-2G-AAFE-01A-11R-A439-13 & TCGA-2G-AAFG-01A-11R-A439-13 & TCGA-2G-AAFG-05A-11R-A439-13 & ⋯ & TCGA-YU-AA4L-01A-11R-A43A-13 & TCGA-YU-AA61-01A-11R-A43A-13 & TCGA-ZM-AA05-01A-12R-A43A-13 & TCGA-ZM-AA06-01A-12R-A43A-13 & TCGA-ZM-AA0B-01A-11R-A43A-13 & TCGA-ZM-AA0D-01A-11R-A43A-13 & TCGA-ZM-AA0E-01A-12R-A43A-13 & TCGA-ZM-AA0F-01A-21R-A43A-13 & TCGA-ZM-AA0H-01A-11R-A43A-13 & TCGA-ZM-AA0N-01A-21R-A43A-13\\\\\n",
              " <chr> & <int> & <int> & <int> & <int> & <int> & <int> & <int> & <int> & <int> & ⋯ & <int> & <int> & <int> & <int> & <int> & <int> & <int> & <int> & <int> & <int>\\\\\n",
              "\\hline\n",
              "\t hsa-let-7a-1, mature,MIMAT0000062 & 49320 & 26419 & 50648 & 19658 & 19754 & 12244 & 39970 & 18318 & 40388 & ⋯ & 10057 & 115177 & 62224 & 17752 & 24009 & 45832 & 23532 & 93525 & 46926 & 47095\\\\\n",
              "\t hsa-let-7a-1, mature,MIMAT0004481 &    32 &    13 &    39 &    22 &    17 &    17 &    43 &    12 &    45 & ⋯ &    13 &    156 &    79 &    16 &    33 &    64 &    58 &    69 &    90 &    41\\\\\n",
              "\t hsa-let-7a-1, precursor           &     5 &     2 &     2 &     3 &     1 &     3 &     4 &    NA &     2 & ⋯ &     2 &      3 &     2 &    NA &     2 &     4 &    NA &     3 &     2 &     3\\\\\n",
              "\t hsa-let-7a-1, stemloop            &    NA &    NA &    NA &    NA &    NA &     1 &     1 &    NA &     1 & ⋯ &    NA &      4 &     2 &    NA &     1 &     1 &     3 &     1 &    NA &    NA\\\\\n",
              "\t hsa-let-7a-2, mature,MIMAT0000062 & 49563 & 26567 & 50483 & 19799 & 19929 & 12223 & 39721 & 18162 & 39993 & ⋯ & 10137 & 115608 & 61752 & 17637 & 24006 & 45164 & 23022 & 92746 & 46699 & 47194\\\\\n",
              "\t hsa-let-7a-2, mature,MIMAT0010195 &    13 &     9 &     9 &    11 &     2 &     4 &    13 &     8 &    22 & ⋯ &    NA &    155 &    38 &    23 &     9 &     9 &    10 &    46 &    30 &    22\\\\\n",
              "\\end{tabular}\n"
            ],
            "text/markdown": [
              "\n",
              "A tibble: 6 × 157\n",
              "\n",
              "| miRNA_id_and_region &lt;chr&gt; | TCGA-2G-AAEW-01A-11R-A439-13 &lt;int&gt; | TCGA-2G-AAEX-01A-11R-A439-13 &lt;int&gt; | TCGA-2G-AAF1-01A-11R-A439-13 &lt;int&gt; | TCGA-2G-AAF4-01A-11R-A439-13 &lt;int&gt; | TCGA-2G-AAF6-01A-11R-A439-13 &lt;int&gt; | TCGA-2G-AAF8-01A-11R-A439-13 &lt;int&gt; | TCGA-2G-AAFE-01A-11R-A439-13 &lt;int&gt; | TCGA-2G-AAFG-01A-11R-A439-13 &lt;int&gt; | TCGA-2G-AAFG-05A-11R-A439-13 &lt;int&gt; | ⋯ ⋯ | TCGA-YU-AA4L-01A-11R-A43A-13 &lt;int&gt; | TCGA-YU-AA61-01A-11R-A43A-13 &lt;int&gt; | TCGA-ZM-AA05-01A-12R-A43A-13 &lt;int&gt; | TCGA-ZM-AA06-01A-12R-A43A-13 &lt;int&gt; | TCGA-ZM-AA0B-01A-11R-A43A-13 &lt;int&gt; | TCGA-ZM-AA0D-01A-11R-A43A-13 &lt;int&gt; | TCGA-ZM-AA0E-01A-12R-A43A-13 &lt;int&gt; | TCGA-ZM-AA0F-01A-21R-A43A-13 &lt;int&gt; | TCGA-ZM-AA0H-01A-11R-A43A-13 &lt;int&gt; | TCGA-ZM-AA0N-01A-21R-A43A-13 &lt;int&gt; |\n",
              "|---|---|---|---|---|---|---|---|---|---|---|---|---|---|---|---|---|---|---|---|---|\n",
              "| hsa-let-7a-1, mature,MIMAT0000062 | 49320 | 26419 | 50648 | 19658 | 19754 | 12244 | 39970 | 18318 | 40388 | ⋯ | 10057 | 115177 | 62224 | 17752 | 24009 | 45832 | 23532 | 93525 | 46926 | 47095 |\n",
              "| hsa-let-7a-1, mature,MIMAT0004481 |    32 |    13 |    39 |    22 |    17 |    17 |    43 |    12 |    45 | ⋯ |    13 |    156 |    79 |    16 |    33 |    64 |    58 |    69 |    90 |    41 |\n",
              "| hsa-let-7a-1, precursor           |     5 |     2 |     2 |     3 |     1 |     3 |     4 |    NA |     2 | ⋯ |     2 |      3 |     2 |    NA |     2 |     4 |    NA |     3 |     2 |     3 |\n",
              "| hsa-let-7a-1, stemloop            |    NA |    NA |    NA |    NA |    NA |     1 |     1 |    NA |     1 | ⋯ |    NA |      4 |     2 |    NA |     1 |     1 |     3 |     1 |    NA |    NA |\n",
              "| hsa-let-7a-2, mature,MIMAT0000062 | 49563 | 26567 | 50483 | 19799 | 19929 | 12223 | 39721 | 18162 | 39993 | ⋯ | 10137 | 115608 | 61752 | 17637 | 24006 | 45164 | 23022 | 92746 | 46699 | 47194 |\n",
              "| hsa-let-7a-2, mature,MIMAT0010195 |    13 |     9 |     9 |    11 |     2 |     4 |    13 |     8 |    22 | ⋯ |    NA |    155 |    38 |    23 |     9 |     9 |    10 |    46 |    30 |    22 |\n",
              "\n"
            ],
            "text/plain": [
              "  miRNA_id_and_region               TCGA-2G-AAEW-01A-11R-A439-13\n",
              "1 hsa-let-7a-1, mature,MIMAT0000062 49320                       \n",
              "2 hsa-let-7a-1, mature,MIMAT0004481    32                       \n",
              "3 hsa-let-7a-1, precursor               5                       \n",
              "4 hsa-let-7a-1, stemloop               NA                       \n",
              "5 hsa-let-7a-2, mature,MIMAT0000062 49563                       \n",
              "6 hsa-let-7a-2, mature,MIMAT0010195    13                       \n",
              "  TCGA-2G-AAEX-01A-11R-A439-13 TCGA-2G-AAF1-01A-11R-A439-13\n",
              "1 26419                        50648                       \n",
              "2    13                           39                       \n",
              "3     2                            2                       \n",
              "4    NA                           NA                       \n",
              "5 26567                        50483                       \n",
              "6     9                            9                       \n",
              "  TCGA-2G-AAF4-01A-11R-A439-13 TCGA-2G-AAF6-01A-11R-A439-13\n",
              "1 19658                        19754                       \n",
              "2    22                           17                       \n",
              "3     3                            1                       \n",
              "4    NA                           NA                       \n",
              "5 19799                        19929                       \n",
              "6    11                            2                       \n",
              "  TCGA-2G-AAF8-01A-11R-A439-13 TCGA-2G-AAFE-01A-11R-A439-13\n",
              "1 12244                        39970                       \n",
              "2    17                           43                       \n",
              "3     3                            4                       \n",
              "4     1                            1                       \n",
              "5 12223                        39721                       \n",
              "6     4                           13                       \n",
              "  TCGA-2G-AAFG-01A-11R-A439-13 TCGA-2G-AAFG-05A-11R-A439-13 ⋯\n",
              "1 18318                        40388                        ⋯\n",
              "2    12                           45                        ⋯\n",
              "3    NA                            2                        ⋯\n",
              "4    NA                            1                        ⋯\n",
              "5 18162                        39993                        ⋯\n",
              "6     8                           22                        ⋯\n",
              "  TCGA-YU-AA4L-01A-11R-A43A-13 TCGA-YU-AA61-01A-11R-A43A-13\n",
              "1 10057                        115177                      \n",
              "2    13                           156                      \n",
              "3     2                             3                      \n",
              "4    NA                             4                      \n",
              "5 10137                        115608                      \n",
              "6    NA                           155                      \n",
              "  TCGA-ZM-AA05-01A-12R-A43A-13 TCGA-ZM-AA06-01A-12R-A43A-13\n",
              "1 62224                        17752                       \n",
              "2    79                           16                       \n",
              "3     2                           NA                       \n",
              "4     2                           NA                       \n",
              "5 61752                        17637                       \n",
              "6    38                           23                       \n",
              "  TCGA-ZM-AA0B-01A-11R-A43A-13 TCGA-ZM-AA0D-01A-11R-A43A-13\n",
              "1 24009                        45832                       \n",
              "2    33                           64                       \n",
              "3     2                            4                       \n",
              "4     1                            1                       \n",
              "5 24006                        45164                       \n",
              "6     9                            9                       \n",
              "  TCGA-ZM-AA0E-01A-12R-A43A-13 TCGA-ZM-AA0F-01A-21R-A43A-13\n",
              "1 23532                        93525                       \n",
              "2    58                           69                       \n",
              "3    NA                            3                       \n",
              "4     3                            1                       \n",
              "5 23022                        92746                       \n",
              "6    10                           46                       \n",
              "  TCGA-ZM-AA0H-01A-11R-A43A-13 TCGA-ZM-AA0N-01A-21R-A43A-13\n",
              "1 46926                        47095                       \n",
              "2    90                           41                       \n",
              "3     2                            3                       \n",
              "4    NA                           NA                       \n",
              "5 46699                        47194                       \n",
              "6    30                           22                       "
            ]
          },
          "metadata": {},
          "output_type": "display_data"
        }
      ],
      "source": [
        "head(final_aggregated_data_raw_counts)"
      ]
    },
    {
      "cell_type": "code",
      "execution_count": 53,
      "metadata": {
        "id": "IvDBlh3eElth",
        "vscode": {
          "languageId": "r"
        }
      },
      "outputs": [],
      "source": [
        "write.csv2(final_aggregated_data_raw_counts, \"TCGA_TGCT_mirna_isoform_data_raw_counts.csv\", row.names = FALSE)"
      ]
    }
  ],
  "metadata": {
    "colab": {
      "provenance": []
    },
    "kernelspec": {
      "display_name": "R",
      "name": "ir"
    },
    "language_info": {
      "name": "R"
    }
  },
  "nbformat": 4,
  "nbformat_minor": 0
}
